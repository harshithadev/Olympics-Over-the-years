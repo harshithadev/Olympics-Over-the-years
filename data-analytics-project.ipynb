{
 "cells": [
  {
   "cell_type": "markdown",
   "metadata": {
    "_cell_guid": "2ce0ecbd-258e-4666-972a-14e3b543a8eb",
    "_uuid": "1669223e-f3ea-4884-87b2-b612f4cb74bd"
   },
   "source": [
    "# It is important to ask the right questions for the analysis to be done right. Under mentioned are the questions to be answered via various data analytics methods."
   ]
  },
  {
   "cell_type": "markdown",
   "metadata": {
    "_cell_guid": "60f899b8-b7c6-414b-901d-eed106bfc255",
    "_uuid": "c67bc70a-a910-4a9f-b59f-5b431946e495"
   },
   "source": [
    "> > > \n",
    "> Research Questions\n",
    "> \n",
    "> \n",
    "> 1. How do various strategies undertaken by various countries contribute to their respective winnings ?\n",
    "> 2. To what extent does the host country have an advantage in the medals won at the Olympics? \n",
    "> 3. How baised is the Olympics? Is there a significant difference in the sex ratio of participants and winners and How has it changed over the years?\n",
    "> 4. Is there an age group for winning the Olympics, or not? Or has it changed over the years?\n",
    "> 5. Is there a consistency in events/ countries won?\n",
    "> 6. Is any country dominating the Olympics?\n",
    "> 7. Is there a pattern or a certain set of characteristics that might be help cluster the participants in the olympcis?\n",
    "> 8. How did COVID affect the summer Olympics held in 2021?\n",
    "> 9. How has the Olympics changed (growth) over the years?\n",
    "> 10. Has India’s participation and performance in the Olympics over the years improved? \n",
    ">"
   ]
  },
  {
   "cell_type": "code",
   "execution_count": 5,
   "metadata": {
    "_cell_guid": "6d7cfc3a-fe7f-4d84-a3bc-de0e3847f034",
    "_execution_state": "idle",
    "_uuid": "6bafc8fc-b36a-412b-aabb-b1e613063150",
    "execution": {
     "iopub.execute_input": "2021-12-10T06:02:55.749255Z",
     "iopub.status.busy": "2021-12-10T06:02:55.747102Z",
     "iopub.status.idle": "2021-12-10T06:03:00.218568Z"
    },
    "jupyter": {
     "outputs_hidden": false
    }
   },
   "outputs": [
    {
     "ename": "ERROR",
     "evalue": "Error in library(\"ggpubr\"): there is no package called 'ggpubr'\n",
     "output_type": "error",
     "traceback": [
      "Error in library(\"ggpubr\"): there is no package called 'ggpubr'\nTraceback:\n",
      "1. library(\"ggpubr\")"
     ]
    }
   ],
   "source": [
    "# This R environment comes with many helpful analytics packages installed\n",
    "# It is defined by the kaggle/rstats Docker image: https://github.com/kaggle/docker-rstats\n",
    "# For example, here's a helpful package to load\n",
    "\n",
    "library(tidyverse) # metapackage of all tidyverse packages\n",
    "#install.packages(\"psych\")\n",
    "library(psych);\n",
    "library(\"ggpubr\");\n",
    "library(MASS);\n",
    "library(dplyr)\n",
    "library(fastDummies);\n",
    "library(corrplot) #correlation plot\n",
    "library(NbClust)\n",
    "library(stats)\n",
    "library(plotly)\n",
    "library(ggrepel)\n",
    "library(RColorBrewer)\n",
    "library(dplyr)\n",
    "library(viridis)\n",
    "library(patchwork)\n",
    "library(rpart)\n",
    "library(e1071)\n",
    "library(magrittr) # needs to be run every time you start R and want to use %>%\n",
    "library(dplyr) \n",
    "library(naivebayes)\n",
    "library(e1071)\n",
    "library(nnet)\n",
    "library(caret)\n",
    "library(superml)\n",
    "library(dbscan)\n",
    "# Input data files are available in the read-only \"../input/\" directory\n",
    "# For example, running this (by clicking run or pressing Shift+Enter) will list all files under the input directory\n",
    "\n",
    "list.files(path = \"../input\")\n",
    "\n",
    "# You can write up to 20GB to the current directory (/kaggle/working/) that gets preserved as output when you create a version using \"Save & Run All\" \n",
    "# You can also write temporary files to /kaggle/temp/, but they won't be saved outside of the current session"
   ]
  },
  {
   "cell_type": "markdown",
   "metadata": {
    "_cell_guid": "b1b482ca-f165-42b6-a98d-7d0f3e578135",
    "_uuid": "8a2d404e-c120-49b7-9a1f-ad73d114f1a2"
   },
   "source": [
    "Reading the Olympics (Main dataset) into 'olympics' variable."
   ]
  },
  {
   "cell_type": "code",
   "execution_count": null,
   "metadata": {
    "_cell_guid": "109e2c43-d2e8-41e4-8269-0be682ddc86b",
    "_uuid": "617f29ed-3966-481b-a6f5-c7914d00ad14",
    "execution": {
     "iopub.execute_input": "2021-12-10T06:03:00.253844Z",
     "iopub.status.busy": "2021-12-10T06:03:00.221692Z",
     "iopub.status.idle": "2021-12-10T06:03:03.441562Z"
    },
    "jupyter": {
     "outputs_hidden": false
    }
   },
   "outputs": [],
   "source": [
    "#getting the dataset\n",
    "olympics <- read.csv(\"../input/120-years-of-olympic-history/athlete_events.csv\")"
   ]
  },
  {
   "cell_type": "code",
   "execution_count": null,
   "metadata": {
    "_cell_guid": "07486666-49dd-4891-ba9b-f379b39a8e9b",
    "_uuid": "c8c2edcf-51d9-4f01-bba6-e554cfeb8e81",
    "execution": {
     "iopub.execute_input": "2021-12-10T06:03:03.446967Z",
     "iopub.status.busy": "2021-12-10T06:03:03.445432Z",
     "iopub.status.idle": "2021-12-10T06:03:03.472247Z"
    },
    "jupyter": {
     "outputs_hidden": false
    }
   },
   "outputs": [],
   "source": [
    "olympics_2021 <-read.csv(\"../input/olympic-games-2021-medals/Tokyo 2021 dataset v3.csv\")"
   ]
  },
  {
   "cell_type": "code",
   "execution_count": null,
   "metadata": {
    "_cell_guid": "55cd157e-ebec-4d48-8588-5285e8491572",
    "_uuid": "41f757d9-f2bc-486b-8683-1e96e26e7982",
    "execution": {
     "iopub.execute_input": "2021-12-10T06:03:03.476777Z",
     "iopub.status.busy": "2021-12-10T06:03:03.475368Z",
     "iopub.status.idle": "2021-12-10T06:03:03.499866Z"
    },
    "jupyter": {
     "outputs_hidden": false
    }
   },
   "outputs": [],
   "source": [
    "olympics_data_dictionary <- read.csv(\"../input/120-years-of-olympic-history/athlete_events_data_dictionary.csv\")"
   ]
  },
  {
   "cell_type": "code",
   "execution_count": null,
   "metadata": {
    "_cell_guid": "d07b6ada-e2cb-4de0-8f8f-64d065e4bee4",
    "_uuid": "d7a8bec4-e9a6-4b78-b803-edcb0ace551f",
    "execution": {
     "iopub.execute_input": "2021-12-10T06:03:03.503902Z",
     "iopub.status.busy": "2021-12-10T06:03:03.502488Z",
     "iopub.status.idle": "2021-12-10T06:03:03.535002Z"
    },
    "jupyter": {
     "outputs_hidden": false
    }
   },
   "outputs": [],
   "source": [
    "olympics_winners <- olympics[c(which(olympics$Medal=='Gold'|olympics$Medal=='Silver'|olympics$Medal=='Bronze')),]"
   ]
  },
  {
   "cell_type": "markdown",
   "metadata": {
    "_cell_guid": "72cb07eb-b434-4276-945b-043166425cb9",
    "_uuid": "d5f4749b-f9b7-49d6-beb8-1673f55d2685"
   },
   "source": [
    "# First Task : \n",
    "This is also called as data wrangaling/ data preprocessing / data preparation.\n",
    "\n",
    "Analyse the features of the dataset. That includes the following,\n",
    "1. Describe the dataset\n",
    "2. Identify the types of variables \n",
    "3. Change the types of variables if necessary \n",
    "4. Remove or modify Null variables\n",
    "5. Identify outliers (if present)\n",
    "6. Deal with outliers"
   ]
  },
  {
   "cell_type": "code",
   "execution_count": null,
   "metadata": {
    "_cell_guid": "91932412-15b6-41ee-83fb-ec489a734a31",
    "_uuid": "aaaa0efd-ac26-4975-a61d-bd1cd6e1e467",
    "execution": {
     "iopub.execute_input": "2021-12-10T06:03:03.539086Z",
     "iopub.status.busy": "2021-12-10T06:03:03.537619Z",
     "iopub.status.idle": "2021-12-10T06:03:03.554699Z"
    },
    "jupyter": {
     "outputs_hidden": false
    }
   },
   "outputs": [],
   "source": [
    "#dimentionality of the dataset\n",
    "dim(olympics)"
   ]
  },
  {
   "cell_type": "code",
   "execution_count": null,
   "metadata": {
    "_cell_guid": "d53d5f29-0443-481c-837b-c402be36b85d",
    "_uuid": "4661c29c-437c-4dca-92fb-75b754afad5a",
    "execution": {
     "iopub.execute_input": "2021-12-10T06:03:03.55852Z",
     "iopub.status.busy": "2021-12-10T06:03:03.557145Z",
     "iopub.status.idle": "2021-12-10T06:03:03.574979Z"
    },
    "jupyter": {
     "outputs_hidden": false
    }
   },
   "outputs": [],
   "source": [
    "nrow(olympics)"
   ]
  },
  {
   "cell_type": "code",
   "execution_count": null,
   "metadata": {
    "_cell_guid": "4c5f3d2c-93f6-4784-90e3-9ac40f343003",
    "_uuid": "d870594a-367a-4f01-9f16-3e670761ab5b",
    "execution": {
     "iopub.execute_input": "2021-12-10T06:03:03.57971Z",
     "iopub.status.busy": "2021-12-10T06:03:03.577911Z",
     "iopub.status.idle": "2021-12-10T06:03:03.594414Z"
    },
    "jupyter": {
     "outputs_hidden": false
    }
   },
   "outputs": [],
   "source": [
    "ncol(olympics)"
   ]
  },
  {
   "cell_type": "markdown",
   "metadata": {
    "_cell_guid": "dd8db2a8-f660-4023-b39f-ef1ca7c709a5",
    "_uuid": "a36c6259-8247-4554-a54d-3bdbac927cc8"
   },
   "source": [
    "To get a breif idea about the dataset, let us first view the first n instances of the dataset."
   ]
  },
  {
   "cell_type": "code",
   "execution_count": null,
   "metadata": {
    "_cell_guid": "f64c2076-2633-4829-a090-9be10513bfba",
    "_uuid": "d087ce58-eb54-4674-a0c0-0d71eda9099e",
    "execution": {
     "iopub.execute_input": "2021-12-10T06:03:03.598193Z",
     "iopub.status.busy": "2021-12-10T06:03:03.596791Z",
     "iopub.status.idle": "2021-12-10T06:03:03.640549Z"
    },
    "jupyter": {
     "outputs_hidden": false
    }
   },
   "outputs": [],
   "source": [
    "head(olympics,n=15)"
   ]
  },
  {
   "cell_type": "code",
   "execution_count": null,
   "metadata": {
    "_cell_guid": "5e06fc3f-559c-46ae-b186-5f1d8a1eb2b4",
    "_uuid": "753aa5f3-79dd-4b65-b34b-2a9d69cd6700",
    "execution": {
     "iopub.execute_input": "2021-12-10T06:03:03.645556Z",
     "iopub.status.busy": "2021-12-10T06:03:03.644094Z",
     "iopub.status.idle": "2021-12-10T06:03:03.679752Z"
    },
    "jupyter": {
     "outputs_hidden": false
    }
   },
   "outputs": [],
   "source": [
    "#Identifying the types of variables\n",
    "glimpse(olympics)\n",
    "\n",
    "#this provides a glimpse of the dataset. Various attributes, their respective types and a few instance examples."
   ]
  },
  {
   "cell_type": "markdown",
   "metadata": {
    "_cell_guid": "0d4bbc59-23c6-4119-a716-179865418a36",
    "_uuid": "b3c85cdb-e043-4837-bb4c-b60a8131e538"
   },
   "source": [
    "Here, we can note that the Columns have their respective datatype. The only datatype that we can change so that the data analysis so that it would become convinient to the data analysis is - Weight, which is currently in 'dbl' datatype which represents double. It can be converted into 'int', that is Integer type."
   ]
  },
  {
   "cell_type": "code",
   "execution_count": null,
   "metadata": {
    "_cell_guid": "ddf1e540-bf1e-4238-9eef-eef2bd0ce839",
    "_uuid": "2b0c1680-6697-4ddc-a00b-42c6a5210036",
    "execution": {
     "iopub.execute_input": "2021-12-10T06:03:03.686188Z",
     "iopub.status.busy": "2021-12-10T06:03:03.684268Z",
     "iopub.status.idle": "2021-12-10T06:03:03.72531Z"
    },
    "jupyter": {
     "outputs_hidden": false
    }
   },
   "outputs": [],
   "source": [
    "#changing the Datatype of the attributes according to convinience. \n",
    "#transform(olympics, Weight = as.integer(Weight))\n",
    "head(transform(olympics, Weight = as.integer(Weight)))\n",
    "\n",
    "#change categorical data into factors for ease in analysis.\n",
    "################olympics$Sex <- factor(olympics$Sex)\n",
    "\n",
    "#similarly other categirucal values can be changed as well. \n",
    "# medals are ordinal data, and therefore levels can be providd as well.\n",
    "################olympics$Medal <- factor(olympics$Medal, levels = c(NA,'Bronze','Silver','Gold'), ordered = TRUE)\n",
    "\n",
    "#To view the affects on the type of attribute.\n",
    "################str(olympics)"
   ]
  },
  {
   "cell_type": "markdown",
   "metadata": {
    "_cell_guid": "4fda1697-d86d-478c-bcc9-f8b07d1865b5",
    "_uuid": "abf8e382-2a03-460f-a100-0172477b5090"
   },
   "source": [
    "Now lets' use a predefined function - summary, to find out the summary of the dataset"
   ]
  },
  {
   "cell_type": "code",
   "execution_count": null,
   "metadata": {
    "_cell_guid": "a542dafc-5fad-4553-8096-e94f266bd9ea",
    "_uuid": "3b418a5b-135b-407a-a824-bf17d1ab8520",
    "execution": {
     "iopub.execute_input": "2021-12-10T06:03:03.729813Z",
     "iopub.status.busy": "2021-12-10T06:03:03.72818Z",
     "iopub.status.idle": "2021-12-10T06:03:03.834496Z"
    },
    "jupyter": {
     "outputs_hidden": false
    }
   },
   "outputs": [],
   "source": [
    "summary(olympics)"
   ]
  },
  {
   "cell_type": "markdown",
   "metadata": {
    "_cell_guid": "4bc4b390-62f7-4180-bd62-37b995604103",
    "_uuid": "17aec2e4-1388-461a-8714-fe7c0c4fe099"
   },
   "source": [
    "As you can see above, there are vaious null values in the following attributes : Age, Height, Weight and Medal. \n",
    "The NA in Medal attribute only refers to no medal recieved, and can be modified easily. Other attributes' null values must be handled with."
   ]
  },
  {
   "cell_type": "markdown",
   "metadata": {
    "_cell_guid": "af4b5ddc-f47c-446d-a797-ef9c98a9a45e",
    "_uuid": "9b2883d6-225b-4d3f-9006-3c60c180f0a1"
   },
   "source": [
    "Now let's individually review the null variables in each attribute and work on them."
   ]
  },
  {
   "cell_type": "code",
   "execution_count": null,
   "metadata": {
    "_cell_guid": "ed069e0c-aeaf-4aae-a5d0-8705b2eb8db9",
    "_uuid": "e20ed12b-5bf9-41a9-ad0c-158eaac72fb9",
    "execution": {
     "iopub.execute_input": "2021-12-10T06:03:03.83926Z",
     "iopub.status.busy": "2021-12-10T06:03:03.837546Z",
     "iopub.status.idle": "2021-12-10T06:03:03.859839Z"
    },
    "jupyter": {
     "outputs_hidden": false
    }
   },
   "outputs": [],
   "source": [
    "sum(length(which(is.na(olympics$Age))))"
   ]
  },
  {
   "cell_type": "code",
   "execution_count": null,
   "metadata": {
    "_cell_guid": "b75e15c5-416e-43bd-9fde-aa9f64b6a067",
    "_uuid": "b26e0fb2-b4be-461f-bcd7-b0e7275bab5f",
    "execution": {
     "iopub.execute_input": "2021-12-10T06:03:03.864589Z",
     "iopub.status.busy": "2021-12-10T06:03:03.862869Z",
     "iopub.status.idle": "2021-12-10T06:03:03.905637Z"
    },
    "jupyter": {
     "outputs_hidden": false
    }
   },
   "outputs": [],
   "source": [
    "olympics$Age[c(which(is.na(olympics$Age)))]<- mean(olympics$Age, na.rm=TRUE)"
   ]
  },
  {
   "cell_type": "code",
   "execution_count": null,
   "metadata": {
    "_cell_guid": "bb47fe33-9156-45a6-9cd8-00be8514586c",
    "_uuid": "ab6a3587-a17b-4da4-92fa-0adf77b1fc0b",
    "execution": {
     "iopub.execute_input": "2021-12-10T06:03:03.910016Z",
     "iopub.status.busy": "2021-12-10T06:03:03.90851Z",
     "iopub.status.idle": "2021-12-10T06:03:03.92969Z"
    },
    "jupyter": {
     "outputs_hidden": false
    }
   },
   "outputs": [],
   "source": [
    "mean(olympics$Age)"
   ]
  },
  {
   "cell_type": "code",
   "execution_count": null,
   "metadata": {
    "_cell_guid": "b1b5732c-1574-4ab7-a416-a06639685d0e",
    "_uuid": "0415c724-59c0-4040-9d01-4991f09fa31e",
    "execution": {
     "iopub.execute_input": "2021-12-10T06:03:03.933988Z",
     "iopub.status.busy": "2021-12-10T06:03:03.932501Z",
     "iopub.status.idle": "2021-12-10T06:03:03.953383Z"
    },
    "jupyter": {
     "outputs_hidden": false
    }
   },
   "outputs": [],
   "source": [
    "sum(length(which(is.na(olympics$Age))))"
   ]
  },
  {
   "cell_type": "markdown",
   "metadata": {
    "_cell_guid": "5c69a063-6ac7-43cb-b51e-af77e28e6fc9",
    "_uuid": "109667c4-a9ef-40e8-aa50-93f54a572667"
   },
   "source": [
    "Now we've dealt with Age factor. Now lets' move on to the missing values in Height and Weight."
   ]
  },
  {
   "cell_type": "code",
   "execution_count": null,
   "metadata": {
    "_cell_guid": "c96892e4-c9d7-4143-b40e-aa3dce790850",
    "_uuid": "2329be3f-3702-4e4a-a7cb-3c8f8f333efa",
    "execution": {
     "iopub.execute_input": "2021-12-10T06:03:03.95774Z",
     "iopub.status.busy": "2021-12-10T06:03:03.956191Z",
     "iopub.status.idle": "2021-12-10T06:03:03.977788Z"
    },
    "jupyter": {
     "outputs_hidden": false
    }
   },
   "outputs": [],
   "source": [
    "mean(is.na(olympics$Weight))"
   ]
  },
  {
   "cell_type": "code",
   "execution_count": null,
   "metadata": {
    "_cell_guid": "7ed1b406-cd52-4142-9ac0-a62760432309",
    "_uuid": "46228558-808d-4cc5-8e8c-dd16822343d2",
    "execution": {
     "iopub.execute_input": "2021-12-10T06:03:03.982523Z",
     "iopub.status.busy": "2021-12-10T06:03:03.980775Z",
     "iopub.status.idle": "2021-12-10T06:03:04.003159Z"
    },
    "jupyter": {
     "outputs_hidden": false
    }
   },
   "outputs": [],
   "source": [
    "mean(is.na(olympics$Height))"
   ]
  },
  {
   "cell_type": "code",
   "execution_count": null,
   "metadata": {
    "_cell_guid": "147125bf-e485-4481-8e95-1fab09fb4530",
    "_uuid": "a3dfa85e-8c39-4790-ab3e-c5b226d54eba",
    "execution": {
     "iopub.execute_input": "2021-12-10T06:03:04.007917Z",
     "iopub.status.busy": "2021-12-10T06:03:04.006229Z",
     "iopub.status.idle": "2021-12-10T06:03:04.272041Z"
    },
    "jupyter": {
     "outputs_hidden": false
    }
   },
   "outputs": [],
   "source": [
    "which(is.na(olympics$Height) & is.na(olympics$Weight) & is.na(olympics$Medal))"
   ]
  },
  {
   "cell_type": "markdown",
   "metadata": {
    "_cell_guid": "2202ddb0-5aa5-4394-a82d-bfed9804b934",
    "_uuid": "5872d4a1-25a1-4e21-a5c9-541caf358844"
   },
   "source": [
    "These are the indices of the rows that do not have both the weight and the height of the participant and havent won any medal either"
   ]
  },
  {
   "cell_type": "code",
   "execution_count": null,
   "metadata": {
    "_cell_guid": "7d19d3ef-c2e9-40c3-b01b-44a7ced74284",
    "_uuid": "9f32fcbf-7228-4aae-887e-38eccf7fcab0",
    "execution": {
     "iopub.execute_input": "2021-12-10T06:03:04.276473Z",
     "iopub.status.busy": "2021-12-10T06:03:04.274898Z",
     "iopub.status.idle": "2021-12-10T06:03:04.289166Z"
    },
    "jupyter": {
     "outputs_hidden": false
    }
   },
   "outputs": [],
   "source": [
    "#now we can delete these instances, because compared to the orignial dataset, these are not significant."
   ]
  },
  {
   "cell_type": "code",
   "execution_count": null,
   "metadata": {
    "_cell_guid": "15b4679c-62a3-44bb-828d-3de46895028e",
    "_uuid": "1fa2764d-e857-455d-9a80-4f43afb2397e",
    "execution": {
     "iopub.execute_input": "2021-12-10T06:03:04.293441Z",
     "iopub.status.busy": "2021-12-10T06:03:04.291941Z",
     "iopub.status.idle": "2021-12-10T06:03:04.734077Z"
    },
    "jupyter": {
     "outputs_hidden": false
    }
   },
   "outputs": [],
   "source": [
    "olympics <- olympics[-c(which(is.na(olympics$Height) & is.na(olympics$Weight) & is.na(olympics$Medal))),]"
   ]
  },
  {
   "cell_type": "markdown",
   "metadata": {
    "_cell_guid": "f1acb580-38c1-4bc5-bf3b-a3370eb0ee2e",
    "_uuid": "35594e30-c13f-4331-8876-8fe9a3b1f7b5"
   },
   "source": [
    "Now lets' check if they have been dropped."
   ]
  },
  {
   "cell_type": "code",
   "execution_count": null,
   "metadata": {
    "_cell_guid": "3d4b108e-d621-42b8-be94-af5ed3ab5084",
    "_uuid": "fd47c0eb-2c8e-4d2c-8ff7-ad8989b3ec46",
    "execution": {
     "iopub.execute_input": "2021-12-10T06:03:04.737965Z",
     "iopub.status.busy": "2021-12-10T06:03:04.736577Z",
     "iopub.status.idle": "2021-12-10T06:03:04.755072Z"
    },
    "jupyter": {
     "outputs_hidden": false
    }
   },
   "outputs": [],
   "source": [
    "sum(which(is.na(olympics$Height) & is.na(olympics$Weight) & is.na(olympics$Medal)))"
   ]
  },
  {
   "cell_type": "code",
   "execution_count": null,
   "metadata": {
    "_cell_guid": "3c224a30-3f8d-411d-ae73-0cc2423ec61c",
    "_uuid": "c1e270b1-b330-4769-b83c-f170459d0707",
    "execution": {
     "iopub.execute_input": "2021-12-10T06:03:04.758793Z",
     "iopub.status.busy": "2021-12-10T06:03:04.757488Z",
     "iopub.status.idle": "2021-12-10T06:03:04.773724Z"
    },
    "jupyter": {
     "outputs_hidden": false
    }
   },
   "outputs": [],
   "source": [
    "sum(is.na(olympics$Medal))"
   ]
  },
  {
   "cell_type": "markdown",
   "metadata": {
    "_cell_guid": "67b7b6ab-a40c-49bb-b2e7-90712323f481",
    "_uuid": "e1f4737b-d469-49f6-945b-5d3bfd38d9ab"
   },
   "source": [
    "We'll have to change NA to 'No Medal'"
   ]
  },
  {
   "cell_type": "code",
   "execution_count": null,
   "metadata": {
    "_cell_guid": "a633dc0f-4916-46c2-b25f-761648d471bc",
    "_uuid": "0c12ffea-5bbd-430d-b2e8-682f6ace5a64",
    "execution": {
     "iopub.execute_input": "2021-12-10T06:03:04.777446Z",
     "iopub.status.busy": "2021-12-10T06:03:04.776074Z",
     "iopub.status.idle": "2021-12-10T06:03:04.792905Z"
    },
    "jupyter": {
     "outputs_hidden": false
    }
   },
   "outputs": [],
   "source": [
    "olympics$Medal[c(which(is.na(olympics$Medal)))]<- 'No Medal'"
   ]
  },
  {
   "cell_type": "code",
   "execution_count": null,
   "metadata": {
    "_cell_guid": "2d6240e5-037b-4b67-bf99-5e1c0ec1105c",
    "_uuid": "679c8b4e-3d8f-4f48-bbd0-1435964e780c",
    "execution": {
     "iopub.execute_input": "2021-12-10T06:03:04.796864Z",
     "iopub.status.busy": "2021-12-10T06:03:04.795519Z",
     "iopub.status.idle": "2021-12-10T06:03:04.81246Z"
    },
    "jupyter": {
     "outputs_hidden": false
    }
   },
   "outputs": [],
   "source": [
    "sum(is.na(olympics$Medal))"
   ]
  },
  {
   "cell_type": "markdown",
   "metadata": {
    "_cell_guid": "660edd63-98fe-4a19-be7f-17f85cf5c256",
    "_uuid": "e8abcd9a-9ce0-4d45-aca3-dcdc58972d38"
   },
   "source": [
    "Now lets' run the summary again and have a look at the statistics."
   ]
  },
  {
   "cell_type": "code",
   "execution_count": null,
   "metadata": {
    "_cell_guid": "7a7500d6-403e-40b5-a91f-f34133075ede",
    "_uuid": "eb2f2bb5-48de-442b-b1a1-153d6ba8a4bc",
    "execution": {
     "iopub.execute_input": "2021-12-10T06:03:04.816063Z",
     "iopub.status.busy": "2021-12-10T06:03:04.814744Z",
     "iopub.status.idle": "2021-12-10T06:03:04.896296Z"
    },
    "jupyter": {
     "outputs_hidden": false
    }
   },
   "outputs": [],
   "source": [
    "summary(olympics)"
   ]
  },
  {
   "cell_type": "code",
   "execution_count": null,
   "metadata": {
    "_cell_guid": "ea806d89-f3bd-480b-aae9-bcae66679b59",
    "_uuid": "4e271c2f-47e9-41e7-a141-824df4a8dbcf",
    "execution": {
     "iopub.execute_input": "2021-12-10T06:03:04.900052Z",
     "iopub.status.busy": "2021-12-10T06:03:04.898664Z",
     "iopub.status.idle": "2021-12-10T06:03:05.01045Z"
    },
    "jupyter": {
     "outputs_hidden": false
    }
   },
   "outputs": [],
   "source": [
    "sum(is.na(olympics$ID))\n",
    "sum(is.na(olympics$Name))\n",
    "sum(is.na(olympics$Sex))\n",
    "sum(is.na(olympics$Age))\n",
    "sum(is.na(olympics$Height))\n",
    "sum(is.na(olympics$Weight))\n",
    "sum(is.na(olympics$Team))\n",
    "sum(is.na(olympics$NOC))\n",
    "sum(is.na(olympics$Games))\n",
    "sum(is.na(olympics$Year))\n",
    "sum(is.na(olympics$Season))\n",
    "sum(is.na(olympics$City))\n",
    "sum(is.na(olympics$Sport))\n",
    "sum(is.na(olympics$Event))\n",
    "sum(is.na(olympics$Medal))"
   ]
  },
  {
   "cell_type": "code",
   "execution_count": null,
   "metadata": {
    "_cell_guid": "ef883902-e3a6-4a78-a01a-3f7d430edb0c",
    "_uuid": "9d631a8a-7797-4462-a8c4-18217ae05d84",
    "execution": {
     "iopub.execute_input": "2021-12-10T06:03:05.014066Z",
     "iopub.status.busy": "2021-12-10T06:03:05.012755Z",
     "iopub.status.idle": "2021-12-10T06:03:05.119626Z"
    },
    "jupyter": {
     "outputs_hidden": false
    }
   },
   "outputs": [],
   "source": [
    "olympics <- na.omit(olympics)"
   ]
  },
  {
   "cell_type": "code",
   "execution_count": null,
   "metadata": {
    "_cell_guid": "776354e8-439b-462f-bee5-17631e41ef4c",
    "_uuid": "52943843-045d-4add-9316-fa8c4c484f92",
    "execution": {
     "iopub.execute_input": "2021-12-10T06:03:05.123463Z",
     "iopub.status.busy": "2021-12-10T06:03:05.122063Z",
     "iopub.status.idle": "2021-12-10T06:03:05.201069Z"
    },
    "jupyter": {
     "outputs_hidden": false
    }
   },
   "outputs": [],
   "source": [
    "summary(olympics)"
   ]
  },
  {
   "cell_type": "markdown",
   "metadata": {
    "_cell_guid": "7129295c-a0be-4046-84a9-2cf04d51ef3d",
    "_uuid": "c0203186-ac25-43a8-8ba9-2585d8d8acc4"
   },
   "source": [
    "Identify outliers."
   ]
  },
  {
   "cell_type": "code",
   "execution_count": null,
   "metadata": {
    "_cell_guid": "89ef797f-8e12-46e8-8e96-d9af3cf9a98b",
    "_uuid": "63370a2c-112c-4722-9ae7-800b88e776a4",
    "execution": {
     "iopub.execute_input": "2021-12-10T06:03:05.20472Z",
     "iopub.status.busy": "2021-12-10T06:03:05.203401Z",
     "iopub.status.idle": "2021-12-10T06:03:05.56818Z"
    },
    "jupyter": {
     "outputs_hidden": false
    }
   },
   "outputs": [],
   "source": [
    "outlier_values <- boxplot.stats(olympics$Height)$out \n",
    "boxplot(olympics$Height, main=\" Height\", boxwex=0.1)\n",
    "mtext(paste(\"Outliers: \", paste(outlier_values, collapse=\", \")), cex=0.6)"
   ]
  },
  {
   "cell_type": "code",
   "execution_count": null,
   "metadata": {
    "_cell_guid": "c5bea3e0-dfc2-4d46-96a9-b94ac86ad3b8",
    "_uuid": "c027339d-307d-4991-b202-c8bf18c30cef",
    "execution": {
     "iopub.execute_input": "2021-12-10T06:03:05.571809Z",
     "iopub.status.busy": "2021-12-10T06:03:05.570484Z",
     "iopub.status.idle": "2021-12-10T06:03:05.91697Z"
    },
    "jupyter": {
     "outputs_hidden": false
    }
   },
   "outputs": [],
   "source": [
    "outlier_values <- boxplot.stats(olympics$Age)$out \n",
    "boxplot(olympics$Age, main=\" Age\", boxwex=0.1)\n",
    "mtext(paste(\"Outliers: \", paste(outlier_values, collapse=\", \")), cex=0.6)"
   ]
  },
  {
   "cell_type": "code",
   "execution_count": null,
   "metadata": {
    "_cell_guid": "4e6c0a09-d728-4f37-abbc-8a89b28fd1a8",
    "_uuid": "4ab12acd-74c7-44ce-bc7d-85829f538531",
    "jupyter": {
     "outputs_hidden": false
    }
   },
   "outputs": [],
   "source": []
  },
  {
   "cell_type": "markdown",
   "metadata": {
    "_cell_guid": "65edddad-8376-462b-a61a-c907efaf43b7",
    "_uuid": "901830e7-dc2f-4e5a-95f2-4d2278e61253"
   },
   "source": [
    "Although in most statistics outliers prove to be non-benefical or non-crutial, for our analysis, outliers are possible."
   ]
  },
  {
   "cell_type": "code",
   "execution_count": null,
   "metadata": {
    "_cell_guid": "1d1c1085-ddfe-4cd7-8a9a-60253c248f31",
    "_uuid": "79cc04e6-e784-4732-ad49-15d112530ea8",
    "execution": {
     "iopub.execute_input": "2021-12-10T06:03:05.920681Z",
     "iopub.status.busy": "2021-12-10T06:03:05.919348Z",
     "iopub.status.idle": "2021-12-10T06:03:05.9483Z"
    },
    "jupyter": {
     "outputs_hidden": false
    }
   },
   "outputs": [],
   "source": [
    "olympics[c(which(olympics$Age==11)),]"
   ]
  },
  {
   "cell_type": "markdown",
   "metadata": {
    "_cell_guid": "6acf8936-3d00-4a8e-8162-b0ad59c85577",
    "_uuid": "a329c76c-c86a-44a4-9c0f-deaeeb0c5573"
   },
   "source": [
    "> Liana Vicens is a Puerto Rican former swimmer. She competed in four events at the 1968 Summer Olympics. At 11 years old, she remained the youngest known competitor in the history of the Olympic Games as of 2016 [Here](https://en.wikipedia.org/wiki/Liana_Vicens)"
   ]
  },
  {
   "cell_type": "markdown",
   "metadata": {
    "_cell_guid": "eb69f2d5-1dfb-4dfd-8381-1a8da86c81a0",
    "_uuid": "8bf647c4-3db2-43d8-97b2-2f98ee752d69"
   },
   "source": [
    "> Sonja Henie made her Olympic debut at the first Olympic Winter Games in Chamonix in 1924, at the time, she was only 11 years old. [here](https://olympics.com/en/athletes/sonja-henie)"
   ]
  },
  {
   "cell_type": "markdown",
   "metadata": {
    "_cell_guid": "5faaf9e0-223c-4877-abfb-c0e6ea2ff203",
    "_uuid": "d8485970-e863-49ac-b25a-6ad3759818b5"
   },
   "source": [
    "> [At the age of 11 years and 158 days, she competed at the 1968 Winter Olympics in Grenoble, France.](http://en.wikipedia.org/wiki/Beatrice_Hu%C8%99tiu)"
   ]
  },
  {
   "cell_type": "code",
   "execution_count": null,
   "metadata": {
    "_cell_guid": "a47ebdd9-5f9a-4447-a192-ceae86d5a73a",
    "_uuid": "63cde81c-de0c-4dc7-aa7b-606fa28b9f38",
    "execution": {
     "iopub.execute_input": "2021-12-10T06:03:05.951987Z",
     "iopub.status.busy": "2021-12-10T06:03:05.950631Z",
     "iopub.status.idle": "2021-12-10T06:03:05.97505Z"
    },
    "jupyter": {
     "outputs_hidden": false
    }
   },
   "outputs": [],
   "source": [
    "olympics[c(which(olympics$Age==71)),]"
   ]
  },
  {
   "cell_type": "markdown",
   "metadata": {
    "_cell_guid": "79ac53fd-9248-4ac5-aaee-68056cb88972",
    "_uuid": "4cfd8c96-a72e-4e1f-b97f-f4fde2ca903c"
   },
   "source": [
    "> Hoketsu, 71, was the oldest competitor in both Beijing in 2008 and London 2012, where he finished 17th in a field of 24 in the men’s dressage competition,­ almost half a century after making his Games debut in Tokyo in 1964. [Here ](https://olympics.com/en/athletes/hiroshi-hoketsu)"
   ]
  },
  {
   "cell_type": "markdown",
   "metadata": {
    "_cell_guid": "fa8a96ed-ba9d-4140-8f2c-9d20d75572ab",
    "_uuid": "8949d067-4b5f-4f11-905b-74296db8e69a"
   },
   "source": [
    "# Exploratory Data Analysis\n",
    "1. Understand and draw inferences from each attribute."
   ]
  },
  {
   "cell_type": "code",
   "execution_count": null,
   "metadata": {
    "_cell_guid": "0d843dab-0b21-4fbf-abda-509dcc6f67ef",
    "_uuid": "9be38238-f1d1-4e73-a638-dc9309445f32",
    "execution": {
     "iopub.execute_input": "2021-12-10T06:03:05.978775Z",
     "iopub.status.busy": "2021-12-10T06:03:05.977447Z",
     "iopub.status.idle": "2021-12-10T06:03:06.014946Z"
    },
    "jupyter": {
     "outputs_hidden": false
    }
   },
   "outputs": [],
   "source": [
    "dim(olympics_data_dictionary)\n",
    "print(olympics_data_dictionary)"
   ]
  },
  {
   "cell_type": "markdown",
   "metadata": {
    "_cell_guid": "8e85ab1d-b38f-44f1-91fc-db656d72e737",
    "_uuid": "869f0867-e83f-4c16-8593-df389523bc4f"
   },
   "source": [
    "The data dictionary provided gives us a brief understanding of what each attribute refers to."
   ]
  },
  {
   "cell_type": "code",
   "execution_count": null,
   "metadata": {
    "_cell_guid": "477804db-6a81-454c-9279-d0d6b11063a5",
    "_uuid": "742eddfb-6e51-4075-b821-e8e0aef1ed38",
    "execution": {
     "iopub.execute_input": "2021-12-10T06:03:06.018723Z",
     "iopub.status.busy": "2021-12-10T06:03:06.017376Z",
     "iopub.status.idle": "2021-12-10T06:03:06.07776Z"
    },
    "jupyter": {
     "outputs_hidden": false
    }
   },
   "outputs": [],
   "source": [
    "summary(olympics)"
   ]
  },
  {
   "cell_type": "markdown",
   "metadata": {
    "_cell_guid": "fe99cea8-c612-4b73-819a-ad679f9d3ec5",
    "_uuid": "74799fef-9420-45aa-a674-417cd341fe12"
   },
   "source": [
    "To view the number of unique values in each attribute."
   ]
  },
  {
   "cell_type": "code",
   "execution_count": null,
   "metadata": {
    "_cell_guid": "741a438e-2f69-46c4-bb96-0feb5ea78d23",
    "_uuid": "3e18d38c-fd80-4840-a71e-c5ee15300266",
    "execution": {
     "iopub.execute_input": "2021-12-10T06:03:06.081491Z",
     "iopub.status.busy": "2021-12-10T06:03:06.080134Z",
     "iopub.status.idle": "2021-12-10T06:03:06.105808Z"
    },
    "jupyter": {
     "outputs_hidden": false
    }
   },
   "outputs": [],
   "source": [
    "#ID\n",
    "length(unique(olympics$ID))"
   ]
  },
  {
   "cell_type": "markdown",
   "metadata": {
    "_cell_guid": "4a4746f7-57dc-41f6-8d6e-86c1fb53eddc",
    "_uuid": "ac5f1986-fe3b-4b39-9c6a-ffb1fa264ada"
   },
   "source": [
    "The following value represents the total number of people that have participated in the olympics for the past 120 years."
   ]
  },
  {
   "cell_type": "code",
   "execution_count": null,
   "metadata": {
    "_cell_guid": "47ebd9ec-fc82-4ad0-bb00-5ad98aecbb23",
    "_uuid": "d8ae1f6e-f266-40fc-92e7-cd30e056586f",
    "execution": {
     "iopub.execute_input": "2021-12-10T06:03:06.109546Z",
     "iopub.status.busy": "2021-12-10T06:03:06.108166Z",
     "iopub.status.idle": "2021-12-10T06:03:06.13846Z"
    },
    "jupyter": {
     "outputs_hidden": false
    }
   },
   "outputs": [],
   "source": [
    "#Name\n",
    "length(unique(olympics$Name))"
   ]
  },
  {
   "cell_type": "markdown",
   "metadata": {
    "_cell_guid": "5187f692-a7b2-413a-a818-96bac002099e",
    "_uuid": "ed365b56-1d18-4e72-8535-40a91c51ee13"
   },
   "source": [
    "Over 99 thousand people have participated in the olympic games in the past 120 years."
   ]
  },
  {
   "cell_type": "code",
   "execution_count": null,
   "metadata": {
    "_cell_guid": "75a64cd2-8a51-4b22-9b11-f39b337e5987",
    "_uuid": "d78be97a-d3a3-43a0-9372-7d4894065535",
    "execution": {
     "iopub.execute_input": "2021-12-10T06:03:06.142153Z",
     "iopub.status.busy": "2021-12-10T06:03:06.140823Z",
     "iopub.status.idle": "2021-12-10T06:03:06.175692Z"
    },
    "jupyter": {
     "outputs_hidden": false
    }
   },
   "outputs": [],
   "source": [
    "#Sex\n",
    "unique(olympics$Sex)"
   ]
  },
  {
   "cell_type": "code",
   "execution_count": null,
   "metadata": {
    "_cell_guid": "8f91fc2b-1b7b-4284-ad74-ea750a912133",
    "_uuid": "f494eee6-86ac-446c-bb17-15178f03b201",
    "execution": {
     "iopub.execute_input": "2021-12-10T06:03:06.179491Z",
     "iopub.status.busy": "2021-12-10T06:03:06.178118Z",
     "iopub.status.idle": "2021-12-10T06:03:06.193546Z"
    },
    "jupyter": {
     "outputs_hidden": false
    }
   },
   "outputs": [],
   "source": [
    "no_of_male_participations = length(c(which(olympics$Sex == 'M')))"
   ]
  },
  {
   "cell_type": "code",
   "execution_count": null,
   "metadata": {
    "_cell_guid": "e26d588a-5229-4b2d-9b28-b10d01700006",
    "_uuid": "19ffc85d-a907-429d-8dc5-e625a734275c",
    "execution": {
     "iopub.execute_input": "2021-12-10T06:03:06.197346Z",
     "iopub.status.busy": "2021-12-10T06:03:06.195969Z",
     "iopub.status.idle": "2021-12-10T06:03:06.21121Z"
    },
    "jupyter": {
     "outputs_hidden": false
    }
   },
   "outputs": [],
   "source": [
    "no_of_female_participations = length(c(which(olympics$Sex == 'F')))"
   ]
  },
  {
   "cell_type": "code",
   "execution_count": null,
   "metadata": {
    "_cell_guid": "02e7e4be-32f6-4de9-b7d0-1b19f8b6afbe",
    "_uuid": "1eeb8ab3-44c8-4c45-85b9-828857016048",
    "execution": {
     "iopub.execute_input": "2021-12-10T06:03:06.216604Z",
     "iopub.status.busy": "2021-12-10T06:03:06.214979Z",
     "iopub.status.idle": "2021-12-10T06:03:06.229169Z"
    },
    "jupyter": {
     "outputs_hidden": false
    }
   },
   "outputs": [],
   "source": [
    "# 140124+66729 = 206853"
   ]
  },
  {
   "cell_type": "markdown",
   "metadata": {
    "_cell_guid": "9b7d888f-35f2-4129-8b12-c0e3579624f7",
    "_uuid": "daf3e43d-fe8e-4427-8e20-41fe89691ff2"
   },
   "source": [
    "Sex Distribution"
   ]
  },
  {
   "cell_type": "code",
   "execution_count": null,
   "metadata": {
    "_cell_guid": "fa34b273-33e7-499f-bd4f-fb778316a3f2",
    "_uuid": "23645ef4-6dfc-4dc8-982a-19b81e6136a1",
    "execution": {
     "iopub.execute_input": "2021-12-10T06:03:06.233635Z",
     "iopub.status.busy": "2021-12-10T06:03:06.232254Z",
     "iopub.status.idle": "2021-12-10T06:03:06.310742Z"
    },
    "jupyter": {
     "outputs_hidden": false
    }
   },
   "outputs": [],
   "source": [
    "pie(c(no_of_male_participations,no_of_female_participations),c(\"male\",\"female\"), main = \"Male VS Female Participation\")"
   ]
  },
  {
   "cell_type": "markdown",
   "metadata": {
    "_cell_guid": "53626a55-6956-4d55-b0df-f065cf2380ca",
    "_uuid": "220e9ec9-ab0b-4e2d-98c0-fdd40f25a19d"
   },
   "source": [
    "As we can see clearly, the female population is way less than half of the participation by male. It is almost thrice."
   ]
  },
  {
   "cell_type": "markdown",
   "metadata": {
    "_cell_guid": "9513c6ab-6bbd-49b8-b26e-01fa60aaa02d",
    "_uuid": "d37006cc-d963-40ab-bee0-072bd468ffb8"
   },
   "source": [
    "The following is the range of age of the participants of the Olympics for the past 120 years."
   ]
  },
  {
   "cell_type": "code",
   "execution_count": null,
   "metadata": {
    "_cell_guid": "c04e2ff5-4aae-4eb9-901e-52aab039ebdd",
    "_uuid": "b0d92eac-ed77-461e-bf09-ea7b372bc469",
    "execution": {
     "iopub.execute_input": "2021-12-10T06:03:06.316302Z",
     "iopub.status.busy": "2021-12-10T06:03:06.314737Z",
     "iopub.status.idle": "2021-12-10T06:03:06.344062Z"
    },
    "jupyter": {
     "outputs_hidden": false
    }
   },
   "outputs": [],
   "source": [
    "olympics_female_data <- olympics[c(which(olympics$Sex == 'F')),]"
   ]
  },
  {
   "cell_type": "code",
   "execution_count": null,
   "metadata": {
    "_cell_guid": "3c8254dd-f3cd-4631-b70e-35be8b9c1efe",
    "_uuid": "f21dc4da-559b-40ae-b511-72559d182a7b",
    "execution": {
     "iopub.execute_input": "2021-12-10T06:03:06.349352Z",
     "iopub.status.busy": "2021-12-10T06:03:06.347733Z",
     "iopub.status.idle": "2021-12-10T06:03:06.387305Z"
    },
    "jupyter": {
     "outputs_hidden": false
    }
   },
   "outputs": [],
   "source": [
    "olympics_male_data <- olympics[c(which(olympics$Sex == 'M')),]"
   ]
  },
  {
   "cell_type": "code",
   "execution_count": null,
   "metadata": {
    "_cell_guid": "8529a36e-6d2e-4c56-bbf7-a6cc26c2f03e",
    "_uuid": "04e7ca07-bbb6-4f03-9734-28272c17b62c",
    "execution": {
     "iopub.execute_input": "2021-12-10T06:03:06.392456Z",
     "iopub.status.busy": "2021-12-10T06:03:06.39088Z",
     "iopub.status.idle": "2021-12-10T06:03:06.407253Z"
    },
    "jupyter": {
     "outputs_hidden": false
    }
   },
   "outputs": [],
   "source": [
    "dim(olympics_female_data)"
   ]
  },
  {
   "cell_type": "code",
   "execution_count": null,
   "metadata": {
    "_cell_guid": "838fa53e-dbd8-4eb2-970b-878a5f6d315e",
    "_uuid": "e458ea86-26f4-469f-b9c3-6e48deb0a9e2",
    "execution": {
     "iopub.execute_input": "2021-12-10T06:03:06.410865Z",
     "iopub.status.busy": "2021-12-10T06:03:06.409547Z",
     "iopub.status.idle": "2021-12-10T06:03:06.452708Z"
    },
    "jupyter": {
     "outputs_hidden": false
    }
   },
   "outputs": [],
   "source": [
    "no_of_female_participants <- length(unique(olympics_female_data$Name))\n",
    "no_of_female_participants"
   ]
  },
  {
   "cell_type": "code",
   "execution_count": null,
   "metadata": {
    "_cell_guid": "30006762-a420-4e5f-9826-06807991ff36",
    "_uuid": "715d45be-90a5-43b1-bdb6-2d1fe513d354",
    "execution": {
     "iopub.execute_input": "2021-12-10T06:03:06.456351Z",
     "iopub.status.busy": "2021-12-10T06:03:06.455035Z",
     "iopub.status.idle": "2021-12-10T06:03:06.482342Z"
    },
    "jupyter": {
     "outputs_hidden": false
    }
   },
   "outputs": [],
   "source": [
    "no_of_male_participants <- length(unique(olympics_male_data$Name))\n",
    "no_of_male_participants"
   ]
  },
  {
   "cell_type": "code",
   "execution_count": null,
   "metadata": {
    "_cell_guid": "6d58210c-8c04-4d67-8501-ee5aa02dbb81",
    "_uuid": "eb032a8e-39d2-45f5-9cfb-6db6fe89812f",
    "execution": {
     "iopub.execute_input": "2021-12-10T06:03:06.48598Z",
     "iopub.status.busy": "2021-12-10T06:03:06.48466Z",
     "iopub.status.idle": "2021-12-10T06:03:06.552724Z"
    },
    "jupyter": {
     "outputs_hidden": false
    }
   },
   "outputs": [],
   "source": [
    "barplot(c(no_of_male_participants,no_of_female_participants), \n",
    "       main = \"Male VS Female participants\",\n",
    "        xlab = \"Male And Female\",\n",
    "        ylab = \"Count\",\n",
    "        names.arg = c(\"Male\",\"Female\"),\n",
    "       )"
   ]
  },
  {
   "cell_type": "code",
   "execution_count": null,
   "metadata": {
    "_cell_guid": "398d60a0-ce06-4f87-80e8-31a883d013b9",
    "_uuid": "d674707f-5898-45b7-b9e5-4eec5069e1d4",
    "execution": {
     "iopub.execute_input": "2021-12-10T06:03:06.556459Z",
     "iopub.status.busy": "2021-12-10T06:03:06.555123Z",
     "iopub.status.idle": "2021-12-10T06:03:06.573028Z"
    },
    "jupyter": {
     "outputs_hidden": false
    }
   },
   "outputs": [],
   "source": [
    "print(no_of_male_participations/no_of_male_participants)\n",
    "print(no_of_female_participations/no_of_female_participants)"
   ]
  },
  {
   "cell_type": "markdown",
   "metadata": {
    "_cell_guid": "0f3620c2-3b32-4c9c-8786-1921b531efc0",
    "_uuid": "f828b684-643f-4cb2-987a-bbb51ff1f9dc"
   },
   "source": [
    "This is the ratio of the number of participantions to the number of total participants grouped by sex. \n",
    "The ratio is higher in the case of women, although less in number of participants in total, they take part in almost 2.25 times events. Whereas men take part in 2.02 times their total number."
   ]
  },
  {
   "cell_type": "markdown",
   "metadata": {
    "_cell_guid": "c6bff676-b29e-4b98-ba48-8b238de886eb",
    "_uuid": "6dcfa5bb-504b-44bc-8402-d313435e1d50"
   },
   "source": [
    "So the total number of female participants is over 29 thousand. And they've participated in over 66 thousand events."
   ]
  },
  {
   "cell_type": "code",
   "execution_count": null,
   "metadata": {
    "_cell_guid": "f466e1cc-c66e-4697-beef-3e97750ceb8d",
    "_uuid": "75746500-ae03-4c6d-b1a0-9b80286e9f49",
    "execution": {
     "iopub.execute_input": "2021-12-10T06:03:06.576769Z",
     "iopub.status.busy": "2021-12-10T06:03:06.575423Z",
     "iopub.status.idle": "2021-12-10T06:03:06.602636Z"
    },
    "jupyter": {
     "outputs_hidden": false
    }
   },
   "outputs": [],
   "source": [
    "no_of_male_participants <- length(unique(olympics_male_data$Name))\n",
    "no_of_male_participants"
   ]
  },
  {
   "cell_type": "markdown",
   "metadata": {
    "_cell_guid": "916dbafc-e595-4828-a1a4-b8d86113cd9e",
    "_uuid": "20c6db9a-9213-4183-8f10-5803435b57d2"
   },
   "source": [
    "Similarly, repeating the same for men, they have participated in over 140 thousand events with participants over 69 thousand."
   ]
  },
  {
   "cell_type": "markdown",
   "metadata": {
    "_cell_guid": "fdf10b29-b2aa-49fd-81cb-c33eb181df18",
    "_uuid": "032c917a-4e68-4488-a1aa-b6bbb41456ac"
   },
   "source": [
    "Now lets' view the male and female participants ratio in the form of a pie chart to get a better understanding at a glance."
   ]
  },
  {
   "cell_type": "code",
   "execution_count": null,
   "metadata": {
    "_cell_guid": "f8cd25fb-d5fc-4969-8457-9b6d14000f36",
    "_uuid": "641ff1d5-3dee-4e22-8994-e68aa464ec00",
    "execution": {
     "iopub.execute_input": "2021-12-10T06:03:06.606284Z",
     "iopub.status.busy": "2021-12-10T06:03:06.604945Z",
     "iopub.status.idle": "2021-12-10T06:03:06.628813Z"
    },
    "jupyter": {
     "outputs_hidden": false
    }
   },
   "outputs": [],
   "source": [
    "print(\"male percentage :\")\n",
    "print((no_of_male_participations/(no_of_female_participations+no_of_male_participations))*100)\n",
    "print(\"female percentage :\")\n",
    "print((no_of_female_participations/(no_of_female_participations+no_of_male_participations))*100)"
   ]
  },
  {
   "cell_type": "code",
   "execution_count": null,
   "metadata": {
    "_cell_guid": "5ec419aa-5181-4116-bccd-40af5316e6f7",
    "_uuid": "e2c5ef86-4059-4ce0-abc1-71cd3f2632b0",
    "execution": {
     "iopub.execute_input": "2021-12-10T06:03:06.632431Z",
     "iopub.status.busy": "2021-12-10T06:03:06.631101Z",
     "iopub.status.idle": "2021-12-10T06:03:06.70619Z"
    },
    "jupyter": {
     "outputs_hidden": false
    }
   },
   "outputs": [],
   "source": [
    "pie(c(no_of_male_participants,no_of_female_participants),c(\"male\",\"female\"), main = \"Male VS Female Participants\")"
   ]
  },
  {
   "cell_type": "code",
   "execution_count": null,
   "metadata": {
    "_cell_guid": "19b5c065-113a-4db7-9f16-09c7c9f308fa",
    "_uuid": "7a6a6c3b-0360-41e8-8bd6-501fbcce186e",
    "execution": {
     "iopub.execute_input": "2021-12-10T06:03:06.709972Z",
     "iopub.status.busy": "2021-12-10T06:03:06.708602Z",
     "iopub.status.idle": "2021-12-10T06:03:06.732609Z"
    },
    "jupyter": {
     "outputs_hidden": false
    }
   },
   "outputs": [],
   "source": [
    "print(\"male percentage :\")\n",
    "print((no_of_male_participants/(no_of_male_participants+no_of_female_participants))*100)\n",
    "print(\"female percentage :\")\n",
    "print((no_of_female_participants/(no_of_male_participants+no_of_female_participants))*100)"
   ]
  },
  {
   "cell_type": "markdown",
   "metadata": {
    "_cell_guid": "abbf29ba-af21-4c4d-8364-5ee1ce1e6ee3",
    "_uuid": "e3e6b542-343d-4ec4-b40c-863095e8640c"
   },
   "source": [
    "Comparing the participants and the participation ratios, although there is a greater ratio of men participants, there is a lower ratio when it comes to participation. This means that female population although less in population is participating in multiple events."
   ]
  },
  {
   "cell_type": "markdown",
   "metadata": {
    "_cell_guid": "b11e7e6e-105f-49e7-bf8e-746e83d16a65",
    "_uuid": "2c939060-348b-45a0-a9bb-4397196700ee"
   },
   "source": [
    "Age Distribution"
   ]
  },
  {
   "cell_type": "code",
   "execution_count": null,
   "metadata": {
    "_cell_guid": "9350bc58-e791-4a82-b4d7-c6ebe090b76f",
    "_uuid": "29583d6e-27fd-4e95-8c5f-37efdd8552c0",
    "execution": {
     "iopub.execute_input": "2021-12-10T06:03:06.736211Z",
     "iopub.status.busy": "2021-12-10T06:03:06.734903Z",
     "iopub.status.idle": "2021-12-10T06:03:06.763485Z"
    },
    "jupyter": {
     "outputs_hidden": false
    }
   },
   "outputs": [],
   "source": [
    "#Age\n",
    "max(olympics$Age)\n",
    "min(olympics$Age)\n",
    "range(olympics$Age)"
   ]
  },
  {
   "cell_type": "markdown",
   "metadata": {
    "_cell_guid": "c1aa35d0-4e31-4722-975e-5dc6c36adbf9",
    "_uuid": "c7bbdb38-30a3-4ec5-9406-15a8ad7042b6"
   },
   "source": [
    "Skewness\n",
    "\n",
    "Skewness is the degree to which returns are asymmetric around the mean. Since a normal distribution is symmetric around the mean, skewness can be taken as one measure of how returns are not distributed normally. \n",
    "Visualizations of skewness more illuminating than the numbers themselves"
   ]
  },
  {
   "cell_type": "code",
   "execution_count": null,
   "metadata": {
    "_cell_guid": "3a4a061e-326f-4908-90bb-0fa4e86f2652",
    "_uuid": "4bb1bede-1d05-4a12-a33d-818a324f3a13",
    "execution": {
     "iopub.execute_input": "2021-12-10T06:03:06.767336Z",
     "iopub.status.busy": "2021-12-10T06:03:06.765933Z",
     "iopub.status.idle": "2021-12-10T06:03:06.864606Z"
    },
    "jupyter": {
     "outputs_hidden": false
    }
   },
   "outputs": [],
   "source": [
    "x <- olympics$Age\n",
    "# Print skewness of distribution\n",
    "#print(skewness(x))\n",
    "# Histogram of distribution\n",
    "hist(x)"
   ]
  },
  {
   "cell_type": "markdown",
   "metadata": {
    "_cell_guid": "225194fe-f6f7-4dd3-8921-9bb04beb713a",
    "_uuid": "b32be717-8b14-490a-b170-1003f3b1f16c"
   },
   "source": [
    "> Looking at the visual histogram, it is evident that the age of the participants is skewed towards the left. That is, the participants are fairly young in most cases."
   ]
  },
  {
   "cell_type": "markdown",
   "metadata": {
    "_cell_guid": "59e4eef7-5176-41d6-bb25-b970703a3137",
    "_uuid": "9d73ab7e-43da-4716-bdfc-e452187a7cac"
   },
   "source": [
    "The same can be performed for the winners as well."
   ]
  },
  {
   "cell_type": "code",
   "execution_count": null,
   "metadata": {
    "_cell_guid": "35bbdcef-1d65-4706-b82c-2e84b018e4f0",
    "_uuid": "aaf43e8b-4ea0-4cc7-b103-2373fb7c51de",
    "execution": {
     "iopub.execute_input": "2021-12-10T06:03:06.868376Z",
     "iopub.status.busy": "2021-12-10T06:03:06.866949Z",
     "iopub.status.idle": "2021-12-10T06:03:06.934792Z"
    },
    "jupyter": {
     "outputs_hidden": false
    }
   },
   "outputs": [],
   "source": [
    "x <- olympics_winners$Age\n",
    "# Print skewness of distribution\n",
    "#print(skewness(x))\n",
    "# Histogram of distribution\n",
    "hist(x)"
   ]
  },
  {
   "cell_type": "markdown",
   "metadata": {
    "_cell_guid": "e9488a3d-c68b-4e6b-826c-8d6250c13c75",
    "_uuid": "be0e130c-d39f-4c4e-af31-9543527e337b"
   },
   "source": [
    "The visual is very similar to that of the participations, it is skewed towards left."
   ]
  },
  {
   "cell_type": "markdown",
   "metadata": {
    "_cell_guid": "9e9ec10a-07a4-4226-a603-d06d3d1ec934",
    "_uuid": "7b95b5e6-4635-4b9e-a76b-407c50c9423b"
   },
   "source": [
    "Height Distribution"
   ]
  },
  {
   "cell_type": "code",
   "execution_count": null,
   "metadata": {
    "_cell_guid": "5422f065-6298-4efb-9cf8-f5eef5ec3369",
    "_uuid": "c29ce436-d39d-42d4-ad8a-e51a17057155",
    "execution": {
     "iopub.execute_input": "2021-12-10T06:03:06.938525Z",
     "iopub.status.busy": "2021-12-10T06:03:06.937155Z",
     "iopub.status.idle": "2021-12-10T06:03:07.012196Z"
    },
    "jupyter": {
     "outputs_hidden": false
    }
   },
   "outputs": [],
   "source": [
    "x <- olympics$Height\n",
    "# Print skewness of distribution\n",
    "#print(skewness(x))\n",
    "# Histogram of distribution\n",
    "hist(x)"
   ]
  },
  {
   "cell_type": "markdown",
   "metadata": {
    "_cell_guid": "aa4fd120-7db5-4741-a78f-cec8eceda117",
    "_uuid": "48a43272-1ea8-4f47-83e5-dafdc03e9517"
   },
   "source": [
    "In order to find the correlation between various attributes they need to be numerical values."
   ]
  },
  {
   "cell_type": "markdown",
   "metadata": {
    "_cell_guid": "c23ced6a-588b-4aec-ba6b-038d9434f14e",
    "_uuid": "aa03003e-5372-453f-89c5-4d872324f1a9"
   },
   "source": [
    "Weight Distribution"
   ]
  },
  {
   "cell_type": "code",
   "execution_count": null,
   "metadata": {
    "_cell_guid": "48a6f07c-d8e3-41f1-a01c-f6407ebc04a7",
    "_uuid": "cb39ffff-a366-4601-b011-c2996e4ffd4e",
    "execution": {
     "iopub.execute_input": "2021-12-10T06:03:07.015985Z",
     "iopub.status.busy": "2021-12-10T06:03:07.014625Z",
     "iopub.status.idle": "2021-12-10T06:03:07.366719Z"
    },
    "jupyter": {
     "outputs_hidden": false
    }
   },
   "outputs": [],
   "source": [
    "x <- olympics$Weight\n",
    "# Print skewness of distribution\n",
    "#print(skewness(x))\n",
    "# Histogram of distribution\n",
    "hist(x)"
   ]
  },
  {
   "cell_type": "code",
   "execution_count": null,
   "metadata": {
    "_cell_guid": "50c04972-5904-4674-a116-78fd407916ac",
    "_uuid": "89e28887-00cc-488b-8f35-a6145fd3e4ec",
    "execution": {
     "iopub.execute_input": "2021-12-10T06:03:07.370463Z",
     "iopub.status.busy": "2021-12-10T06:03:07.369091Z",
     "iopub.status.idle": "2021-12-10T06:03:07.483065Z"
    },
    "jupyter": {
     "outputs_hidden": false
    }
   },
   "outputs": [],
   "source": [
    "M = cor(olympics[c(4,5,6)]) #correlation between age, height and weight. \n",
    "corrplot(M, method = 'shade', order = 'AOE', diag = FALSE)"
   ]
  },
  {
   "cell_type": "code",
   "execution_count": null,
   "metadata": {
    "_cell_guid": "c9f613b2-83cb-4fb9-850d-cadeb5be189e",
    "_uuid": "053bab5e-5f8d-4989-bbf3-d94fd65c1b5b",
    "execution": {
     "iopub.execute_input": "2021-12-10T06:03:07.486724Z",
     "iopub.status.busy": "2021-12-10T06:03:07.485387Z",
     "iopub.status.idle": "2021-12-10T06:03:15.693706Z"
    },
    "jupyter": {
     "outputs_hidden": false
    }
   },
   "outputs": [],
   "source": [
    "plot(x = olympics$Height,y = olympics$Weight,\n",
    "   xlab = \"Height\",\n",
    "   ylab = \"Weight\",\t\t \n",
    "   main = \"Height VS Weight\",\n",
    "    col = factor(olympics$Sex)\n",
    ")\n",
    "\n",
    "legend(\"topleft\",\n",
    "       legend = levels(factor(olympics$Sex)),\n",
    "       pch = 10,\n",
    "       col = factor(levels(factor(olympics$Sex))))"
   ]
  },
  {
   "cell_type": "code",
   "execution_count": null,
   "metadata": {
    "_cell_guid": "8417765b-97ea-4788-ada3-187f718cab76",
    "_uuid": "fc15011b-9548-4ff8-a185-72fdfe77cb0f",
    "execution": {
     "iopub.execute_input": "2021-12-10T06:03:15.69975Z",
     "iopub.status.busy": "2021-12-10T06:03:15.69763Z",
     "iopub.status.idle": "2021-12-10T06:03:15.859954Z"
    },
    "jupyter": {
     "outputs_hidden": false
    }
   },
   "outputs": [],
   "source": [
    "# Calculate the mean age, separately for each Country.\n",
    "age_mean_by_country <- aggregate(formula = Age ~ NOC,\n",
    "          data = olympics,\n",
    "          FUN = mean)\n",
    "col(age_mean_by_country)\n",
    "#hist(age_mean_by_country)"
   ]
  },
  {
   "cell_type": "code",
   "execution_count": null,
   "metadata": {
    "_cell_guid": "ca0bfefd-67bc-4e44-9d5b-43cf6b63e9c1",
    "_uuid": "40dce47e-1e9e-4d45-a01f-59bab01345f2",
    "execution": {
     "iopub.execute_input": "2021-12-10T06:03:15.863704Z",
     "iopub.status.busy": "2021-12-10T06:03:15.862358Z",
     "iopub.status.idle": "2021-12-10T06:03:15.882628Z"
    },
    "jupyter": {
     "outputs_hidden": false
    }
   },
   "outputs": [],
   "source": [
    "print(length(unique(olympics$NOC)))"
   ]
  },
  {
   "cell_type": "markdown",
   "metadata": {
    "_cell_guid": "aa7be1a9-f29a-4a4f-91f6-4df8b9a1d9f0",
    "_uuid": "1ba58c1e-90dd-4674-ad07-c59ea716648f"
   },
   "source": [
    "There are the various countries participating."
   ]
  },
  {
   "cell_type": "code",
   "execution_count": null,
   "metadata": {
    "_cell_guid": "9a544880-1442-453b-b4f0-a0b6c0f46bdb",
    "_uuid": "b7534e33-6c76-468f-a65d-70194329a333",
    "execution": {
     "iopub.execute_input": "2021-12-10T06:03:15.888039Z",
     "iopub.status.busy": "2021-12-10T06:03:15.886169Z",
     "iopub.status.idle": "2021-12-10T06:03:15.909049Z"
    },
    "jupyter": {
     "outputs_hidden": false
    }
   },
   "outputs": [],
   "source": [
    "length(unique(olympics$Team))"
   ]
  },
  {
   "cell_type": "code",
   "execution_count": null,
   "metadata": {
    "_cell_guid": "73d04cde-839c-4506-b4c9-fa0ba8e9c732",
    "_uuid": "37bf56e9-01d0-4724-bb0c-73754bd07e26",
    "execution": {
     "iopub.execute_input": "2021-12-10T06:03:15.914167Z",
     "iopub.status.busy": "2021-12-10T06:03:15.912619Z",
     "iopub.status.idle": "2021-12-10T06:03:16.028401Z"
    },
    "jupyter": {
     "outputs_hidden": false
    }
   },
   "outputs": [],
   "source": [
    "olympics_selective <- olympics[c(which(olympics$NOC=='IND'|olympics$NOC=='CHN'|olympics$NOC=='NED')),]\n",
    "#print(olympics_selective_countries)\n",
    "dim(olympics_selective)\n",
    "print(unique(olympics_selective$NOC))\n",
    "boxplot(Height~NOC,data=olympics_selective, main=\" Height\", boxwex=0.1)"
   ]
  },
  {
   "cell_type": "markdown",
   "metadata": {
    "_cell_guid": "28453dfd-6e66-4f6b-84a2-fa6fd1540a0e",
    "_uuid": "883bcbe1-2e59-45c6-b825-014d537b5ecc"
   },
   "source": [
    "###### Conclussions and lessons\n",
    "- The sex ratio is very biased.\n",
    "- Although majority of the participants lie in the age group of 20-35, there are significant number of people in other age groups. The range of the participants is from 11 to 71."
   ]
  },
  {
   "cell_type": "code",
   "execution_count": null,
   "metadata": {
    "_cell_guid": "9fa4c441-b21a-4e1e-95f5-af88dd541ada",
    "_uuid": "df2b5c1d-07a0-445c-9c1b-04d5a5fc2a39",
    "execution": {
     "iopub.execute_input": "2021-12-10T06:03:16.033877Z",
     "iopub.status.busy": "2021-12-10T06:03:16.032361Z",
     "iopub.status.idle": "2021-12-10T06:03:16.051855Z"
    },
    "jupyter": {
     "outputs_hidden": false
    }
   },
   "outputs": [],
   "source": [
    "gold_winners <- olympics[c(which(olympics$Medal=='Gold')),]"
   ]
  },
  {
   "cell_type": "code",
   "execution_count": null,
   "metadata": {
    "_cell_guid": "316e24bb-2d68-483f-8ebb-11467cc59729",
    "_uuid": "ec2ebdc9-9d28-40b1-a60b-d1ad5af10226",
    "execution": {
     "iopub.execute_input": "2021-12-10T06:03:16.055653Z",
     "iopub.status.busy": "2021-12-10T06:03:16.054313Z",
     "iopub.status.idle": "2021-12-10T06:03:16.100183Z"
    },
    "jupyter": {
     "outputs_hidden": false
    }
   },
   "outputs": [],
   "source": [
    "head(gold_winners)\n",
    "#similarly for silver and bronze winners\n",
    "\n",
    "silver_winners <- olympics[c(which(olympics$Medal=='Silver')),]\n",
    "bronze_winners <- olympics[c(which(olympics$Medal=='Bronze')),]"
   ]
  },
  {
   "cell_type": "code",
   "execution_count": null,
   "metadata": {
    "_cell_guid": "4fbe2c60-56f0-464b-885f-6cb59d284b4b",
    "_uuid": "1be94938-3890-434c-8a2c-581d1ebb7ca0",
    "execution": {
     "iopub.execute_input": "2021-12-10T06:03:16.104458Z",
     "iopub.status.busy": "2021-12-10T06:03:16.102835Z",
     "iopub.status.idle": "2021-12-10T06:03:16.192297Z"
    },
    "jupyter": {
     "outputs_hidden": false
    }
   },
   "outputs": [],
   "source": [
    "barplot(table(gold_winners$Age),\n",
    "main=\"Age amoung gold winners\",\n",
    "xlab=\"Age\",\n",
    "ylab=\"Count\",\n",
    "border=\"red\",\n",
    "col=\"blue\",\n",
    ")"
   ]
  },
  {
   "cell_type": "code",
   "execution_count": null,
   "metadata": {
    "_cell_guid": "b9ff9920-de4f-4119-946d-044075410f21",
    "_uuid": "1b9f5427-4d98-4aea-9843-1f684fd4ba03",
    "execution": {
     "iopub.execute_input": "2021-12-10T06:03:16.196092Z",
     "iopub.status.busy": "2021-12-10T06:03:16.194706Z",
     "iopub.status.idle": "2021-12-10T06:03:16.261492Z"
    },
    "jupyter": {
     "outputs_hidden": false
    }
   },
   "outputs": [],
   "source": [
    "gold_data = olympics %>%\n",
    "    filter(Medal == 'Gold') %>% # Only keep entries about gold medals\n",
    "    group_by(Team) %>% # Create a group for each country\n",
    "    summarize(gold_count = n()) %>% # Count how many gold medals the country won.\n",
    "                                    # Store it in a \"gold_count\" column.\n",
    "    top_n(n=10, wt=gold_count) %>% # Only keep top 10 countries.\n",
    "    arrange(desc(gold_count)) # Sort the data by number of gold medals.\n",
    "\n",
    "# Print what we just computed\n",
    "gold_data"
   ]
  },
  {
   "cell_type": "code",
   "execution_count": null,
   "metadata": {
    "_cell_guid": "c20a534b-a2ec-4ef5-80ac-3a1361e3444e",
    "_uuid": "fe4094f7-c19c-4902-9d5f-b9a8d48e6763",
    "execution": {
     "iopub.execute_input": "2021-12-10T06:03:16.265182Z",
     "iopub.status.busy": "2021-12-10T06:03:16.263834Z",
     "iopub.status.idle": "2021-12-10T06:03:16.550132Z"
    },
    "jupyter": {
     "outputs_hidden": false
    }
   },
   "outputs": [],
   "source": [
    "ggplot(data = gold_data, aes(x = Team, y = gold_count)) +\n",
    "       geom_bar(stat = \"identity\") +\n",
    "       coord_flip()"
   ]
  },
  {
   "cell_type": "code",
   "execution_count": null,
   "metadata": {
    "_cell_guid": "051d03b6-9271-4eb4-9b06-ecad44e39eca",
    "_uuid": "cd98524e-2dc1-4d6e-bb81-5691a25cfbf7",
    "jupyter": {
     "outputs_hidden": false
    }
   },
   "outputs": [],
   "source": []
  },
  {
   "cell_type": "code",
   "execution_count": null,
   "metadata": {
    "_cell_guid": "94ff569f-4eca-49b6-98f8-9ad67eb81167",
    "_uuid": "05bedaee-b6ff-4ec7-b802-aa3ae4555224",
    "execution": {
     "iopub.execute_input": "2021-12-10T06:03:16.55407Z",
     "iopub.status.busy": "2021-12-10T06:03:16.552638Z",
     "iopub.status.idle": "2021-12-10T06:03:16.605049Z"
    },
    "jupyter": {
     "outputs_hidden": false
    }
   },
   "outputs": [],
   "source": [
    "#similarly silver and bronze \n",
    "silver_data = olympics %>%\n",
    "    filter(Medal == 'Silver') %>% # Only keep entries about gold medals\n",
    "    group_by(Team) %>% # Create a group for each country\n",
    "    summarize(silver_count = n()) %>% # Count how many gold medals the country won.\n",
    "                                    # Store it in a \"gold_count\" column.\n",
    "    top_n(n=10, wt=silver_count) %>% # Only keep top 10 countries.\n",
    "    arrange(desc(silver_count)) # Sort the data by number of gold medals.\n",
    "\n",
    "# Print what we just computed\n",
    "silver_data"
   ]
  },
  {
   "cell_type": "code",
   "execution_count": null,
   "metadata": {
    "_cell_guid": "3e40efef-231b-46c6-ba3b-7f8d4174bfeb",
    "_uuid": "4113fb0c-03ac-4c37-b421-3c53eaca4a2e",
    "execution": {
     "iopub.execute_input": "2021-12-10T06:03:16.609973Z",
     "iopub.status.busy": "2021-12-10T06:03:16.608389Z",
     "iopub.status.idle": "2021-12-10T06:03:16.676996Z"
    },
    "jupyter": {
     "outputs_hidden": false
    }
   },
   "outputs": [],
   "source": [
    "bronze_data = olympics %>%\n",
    "    filter(Medal == 'Bronze') %>% # Only keep entries about gold medals\n",
    "    group_by(Team) %>% # Create a group for each country\n",
    "    summarize(bronze_count = n()) %>% # Count how many gold medals the country won.\n",
    "                                    # Store it in a \"gold_count\" column.\n",
    "    top_n(n=10, wt=bronze_count) %>% # Only keep top 10 countries.\n",
    "    arrange(desc(bronze_count)) # Sort the data by number of gold medals.\n",
    "\n",
    "# Print what we just computed\n",
    "bronze_data"
   ]
  },
  {
   "cell_type": "code",
   "execution_count": null,
   "metadata": {
    "_cell_guid": "7556ed2e-77a5-4aad-b34a-1d85a5c14ab4",
    "_uuid": "0e491fed-651a-4d64-95b8-b7a64527d070",
    "execution": {
     "iopub.execute_input": "2021-12-10T06:03:16.680657Z",
     "iopub.status.busy": "2021-12-10T06:03:16.679341Z",
     "iopub.status.idle": "2021-12-10T06:03:16.916369Z"
    },
    "jupyter": {
     "outputs_hidden": false
    }
   },
   "outputs": [],
   "source": [
    "ggplot(data = silver_data, aes(x = Team, y = silver_count)) +\n",
    "       geom_bar(stat = \"identity\") +\n",
    "       coord_flip()"
   ]
  },
  {
   "cell_type": "code",
   "execution_count": null,
   "metadata": {
    "_cell_guid": "65e7730a-8597-451e-9034-0be78bb2d191",
    "_uuid": "cb370d2e-5bee-4de1-a399-22bad242f3cf",
    "execution": {
     "iopub.execute_input": "2021-12-10T06:03:16.920433Z",
     "iopub.status.busy": "2021-12-10T06:03:16.918961Z",
     "iopub.status.idle": "2021-12-10T06:03:17.130684Z"
    },
    "jupyter": {
     "outputs_hidden": false
    }
   },
   "outputs": [],
   "source": [
    "ggplot(data = bronze_data, aes(x = Team, y = bronze_count)) +\n",
    "       geom_bar(stat = \"identity\") +\n",
    "       coord_flip()"
   ]
  },
  {
   "cell_type": "markdown",
   "metadata": {
    "_cell_guid": "567820a6-96d7-459d-8acf-8f828bf47b74",
    "_uuid": "aea81a56-7864-4105-bd49-9441ced1ed7b"
   },
   "source": [
    "It is very evidnt that United states and soviet union has been ruling over all three medals in the olympics."
   ]
  },
  {
   "cell_type": "markdown",
   "metadata": {
    "_cell_guid": "d36044f7-6874-48c9-b7b7-8fd3b29236cf",
    "_uuid": "b8c4c300-9d10-4324-bce7-2e16291cbaeb"
   },
   "source": [
    "Now let's see the trend of India over the years."
   ]
  },
  {
   "cell_type": "code",
   "execution_count": null,
   "metadata": {
    "_cell_guid": "e84fa73a-ff2c-483d-b7b6-2bf8ec67b680",
    "_uuid": "58084ed0-29e4-479d-ab72-48886bba43e0",
    "execution": {
     "iopub.execute_input": "2021-12-10T06:03:17.134466Z",
     "iopub.status.busy": "2021-12-10T06:03:17.133087Z",
     "iopub.status.idle": "2021-12-10T06:03:17.200363Z"
    },
    "jupyter": {
     "outputs_hidden": false
    }
   },
   "outputs": [],
   "source": [
    "year_wise_india_count = olympics %>%\n",
    "    #filter(Team) %>% # Only keep data for some countries\n",
    "    filter(Medal %in% c('Gold', 'Silver', 'Bronze')) %>%\n",
    "    filter(Team %in% c('India')) %>%\n",
    "    group_by(Year, Team) %>% # Create groups on tuples!\n",
    "    summarize(count=n()) %>% # Count how many gold medals the country won.\n",
    "                                    # Store it in a \"gold_count\" column.\n",
    "    top_n(n=1, wt=count) %>% # Only keep top 10 countries.\n",
    "    arrange(desc(Year)) # Sort the data by number medals\n",
    "\n",
    "# Print what we just computed\n",
    "year_wise_india_count"
   ]
  },
  {
   "cell_type": "markdown",
   "metadata": {
    "_cell_guid": "abb8fce7-a987-4147-b9c9-5d420450aadf",
    "_uuid": "fc352ebf-e9c9-4dd8-b5a7-2bb8540c8818"
   },
   "source": [
    "Similarly, let's see the number of participants in India over the years."
   ]
  },
  {
   "cell_type": "code",
   "execution_count": null,
   "metadata": {
    "_cell_guid": "d039a5ce-4eb4-4af9-a322-e1cab0ae683e",
    "_uuid": "d8465437-6abc-414f-8232-311212fff85c",
    "execution": {
     "iopub.execute_input": "2021-12-10T06:03:17.204154Z",
     "iopub.status.busy": "2021-12-10T06:03:17.202768Z",
     "iopub.status.idle": "2021-12-10T06:03:17.273079Z"
    },
    "jupyter": {
     "outputs_hidden": false
    }
   },
   "outputs": [],
   "source": [
    "\n",
    "year_wise_india_count = olympics %>%\n",
    "    #filter(Team) %>% # Only keep data for some countries\n",
    "    filter(Medal %in% c('No Medal','Gold', 'Silver', 'Bronze')) %>%\n",
    "    filter(Team %in% c('India')) %>%\n",
    "    group_by(Year, Team) %>% # Create groups on tuples!\n",
    "    summarize(count=n()) %>% # Count how many gold medals the country won.\n",
    "                                    # Store it in a \"gold_count\" column.\n",
    "    top_n(n=1, wt=count) %>% # Only keep top 10 countries.\n",
    "    arrange(desc(Year)) # Sort the data by number medals\n",
    "\n",
    "# Print what we just computed\n",
    "year_wise_india_count"
   ]
  },
  {
   "cell_type": "code",
   "execution_count": null,
   "metadata": {
    "_cell_guid": "e3c23e8d-916f-4c22-8fd5-80d81d14f847",
    "_uuid": "34acd565-8a8c-48b6-9d2a-6e2b8680e3ac",
    "execution": {
     "iopub.execute_input": "2021-12-10T06:03:17.276898Z",
     "iopub.status.busy": "2021-12-10T06:03:17.275533Z",
     "iopub.status.idle": "2021-12-10T06:03:17.35986Z"
    },
    "jupyter": {
     "outputs_hidden": false
    }
   },
   "outputs": [],
   "source": [
    "bronze_data = olympics %>%\n",
    "    filter(Medal == 'Bronze',) %>% # Only keep entries about gold medals\n",
    "    group_by(Team) %>% # Create a group for each country\n",
    "    summarize(bronze_count = n()) %>% # Count how many gold medals the country won.\n",
    "                                    # Store it in a \"gold_count\" column.\n",
    "    top_n(n=10, wt=bronze_count) %>% # Only keep top 10 countries.\n",
    "    arrange(desc(bronze_count)) # Sort the data by number of gold medals.\n",
    "\n",
    "# Print what we just computed\n",
    "bronze_data"
   ]
  },
  {
   "cell_type": "code",
   "execution_count": null,
   "metadata": {
    "_cell_guid": "34c8f109-0e85-4d7e-814a-623257a544d3",
    "_uuid": "c90770fd-2f71-4cf1-bf47-e2f7e200ac16",
    "execution": {
     "iopub.execute_input": "2021-12-10T06:03:17.363516Z",
     "iopub.status.busy": "2021-12-10T06:03:17.362202Z",
     "iopub.status.idle": "2021-12-10T06:03:18.043718Z"
    },
    "jupyter": {
     "outputs_hidden": false
    }
   },
   "outputs": [],
   "source": [
    "p <- ggplot(olympics %>%\n",
    "        filter(Team %in% c('India','Canada', 'United States', 'Germany', 'Sweden')) %>% # Only keep data for some countries\n",
    "        filter(Medal %in% c('Gold', 'Silver', 'Bronze')) %>%\n",
    "        group_by(Team, Medal, Year) %>% # Create groups on tuples!\n",
    "        summarize(count=n(), .groups = 'drop')) + # Compute a count for each group\n",
    "    geom_line(aes(x=Year, y=count, color=Team)) + # Add lines\n",
    "    facet_wrap(~ Medal) + # Plot data of different Team on different facets\n",
    "    scale_color_viridis(discrete=TRUE) + # colorblind-proof colors\n",
    "    theme_bw()+ NULL\n",
    "print(p)"
   ]
  },
  {
   "cell_type": "code",
   "execution_count": null,
   "metadata": {
    "_cell_guid": "ba0209b9-43d2-4d1b-ad10-91e856dc8402",
    "_uuid": "1df5090b-3855-4f51-8899-806b9e99288d",
    "execution": {
     "iopub.execute_input": "2021-12-10T06:03:18.047738Z",
     "iopub.status.busy": "2021-12-10T06:03:18.046308Z",
     "iopub.status.idle": "2021-12-10T06:03:18.573771Z"
    },
    "jupyter": {
     "outputs_hidden": false
    }
   },
   "outputs": [],
   "source": [
    "p <- ggplot(olympics %>%\n",
    "        filter(Team %in% c('India','United States')) %>% # Only keep data for some countries\n",
    "        filter(Medal %in% c('Gold', 'Silver', 'Bronze')) %>%\n",
    "        group_by(Team, Medal, Year) %>% # Create groups on tuples!\n",
    "        summarize(count=n(), .groups = 'drop')) + # Compute a count for each group\n",
    "    geom_line(aes(x=Year, y=count, color=Team)) + # Add lines\n",
    "    facet_wrap(~ Medal) + # Plot data of different Team on different facets\n",
    "    scale_color_viridis(discrete=TRUE) + # colorblind-proof colors\n",
    "    theme_bw()+ NULL\n",
    "print(p)"
   ]
  },
  {
   "cell_type": "markdown",
   "metadata": {
    "_cell_guid": "1e0438ec-a57c-4d7f-b486-15fffcb9ef63",
    "_uuid": "85134b67-2711-42f4-99ee-d8bc4b8f55ce"
   },
   "source": [
    "The above mentioned is a comparitive plot of the team that has been ruling over the olympics with Indian Team. The winning streak started later as compared to that of the United states. Altough it started of well, over the years the winnings have taken a turn downwards. But recently initiatives have been taken to encourage Indians to participate more."
   ]
  },
  {
   "cell_type": "code",
   "execution_count": null,
   "metadata": {
    "_cell_guid": "b1a01912-cf17-4b90-b3f7-bdab58ef57f5",
    "_uuid": "b7443300-1761-419f-b9b4-6d1a01d2b623",
    "execution": {
     "iopub.execute_input": "2021-12-10T06:03:18.577989Z",
     "iopub.status.busy": "2021-12-10T06:03:18.576505Z",
     "iopub.status.idle": "2021-12-10T06:03:18.95431Z"
    },
    "jupyter": {
     "outputs_hidden": false
    }
   },
   "outputs": [],
   "source": [
    "p <- ggplot(olympics %>%\n",
    "        filter(Team %in% c('India')) %>% # Only keep data for some countries\n",
    "        filter(Medal %in% c('Gold')) %>%\n",
    "        group_by(Team, Medal, Year) %>% # Create groups on tuples!\n",
    "        summarize(count=n(), .groups = 'drop')) + # Compute a count for each group\n",
    "    geom_line(aes(x=Year, y=count, color=Team)) + # Add lines\n",
    "    facet_wrap(~ Medal) + # Plot data of different Team on different facets\n",
    "    scale_color_viridis(discrete=TRUE) + # colorblind-proof colors\n",
    "    theme_bw()+ NULL\n",
    "print(p)"
   ]
  },
  {
   "cell_type": "code",
   "execution_count": null,
   "metadata": {
    "_cell_guid": "249c5af9-70df-4471-821e-c013c1cf8eda",
    "_uuid": "5f61a010-906d-42b5-9276-c61e04d686ab",
    "execution": {
     "iopub.execute_input": "2021-12-10T06:03:18.958592Z",
     "iopub.status.busy": "2021-12-10T06:03:18.957002Z",
     "iopub.status.idle": "2021-12-10T06:03:19.334382Z"
    },
    "jupyter": {
     "outputs_hidden": false
    }
   },
   "outputs": [],
   "source": [
    "p <- ggplot(olympics %>%\n",
    "        filter(Team %in% c('India')) %>% # Only keep data for some countries\n",
    "        filter(Medal %in% c('Silver')) %>%\n",
    "        group_by(Team, Medal, Year) %>% # Create groups on tuples!\n",
    "        summarize(count=n(), .groups = 'drop')) + # Compute a count for each group\n",
    "    geom_line(aes(x=Year, y=count, color=Team)) + # Add lines\n",
    "    facet_wrap(~ Medal) + # Plot data of different Team on different facets\n",
    "    scale_color_viridis(discrete=TRUE) + # colorblind-proof colors\n",
    "    theme_bw()+ NULL\n",
    "print(p)"
   ]
  },
  {
   "cell_type": "code",
   "execution_count": null,
   "metadata": {
    "_cell_guid": "996da0c9-9308-4d69-94d5-a77577f5e1e3",
    "_uuid": "91939885-ba83-401d-9533-be054624c286",
    "execution": {
     "iopub.execute_input": "2021-12-10T06:03:19.338812Z",
     "iopub.status.busy": "2021-12-10T06:03:19.337233Z",
     "iopub.status.idle": "2021-12-10T06:03:19.728864Z"
    },
    "jupyter": {
     "outputs_hidden": false
    }
   },
   "outputs": [],
   "source": [
    "p <- ggplot(olympics %>%\n",
    "        filter(Team %in% c('India')) %>% # Only keep data for some countries\n",
    "        filter(Medal %in% c('Bronze')) %>%\n",
    "        group_by(Team, Medal, Year) %>% # Create groups on tuples!\n",
    "        summarize(count=n(), .groups = 'drop')) + # Compute a count for each group\n",
    "    geom_line(aes(x=Year, y=count, color=Team)) + # Add lines\n",
    "    facet_wrap(~ Medal) + # Plot data of different Team on different facets\n",
    "    scale_color_viridis(discrete=TRUE) + # colorblind-proof colors\n",
    "    theme_bw()+ NULL\n",
    "print(p)"
   ]
  },
  {
   "cell_type": "code",
   "execution_count": null,
   "metadata": {
    "_cell_guid": "77e72400-079d-4451-98e0-c222c774abd4",
    "_uuid": "38e217de-443c-467d-a147-875e6976ddbc",
    "execution": {
     "iopub.execute_input": "2021-12-10T06:03:19.733161Z",
     "iopub.status.busy": "2021-12-10T06:03:19.731645Z",
     "iopub.status.idle": "2021-12-10T06:03:20.233778Z"
    },
    "jupyter": {
     "outputs_hidden": false
    }
   },
   "outputs": [],
   "source": [
    "# Globally, how medals are distributed among the previous countries?\n",
    "p <- ggplot(olympics %>%\n",
    "        filter(Team %in% c('India','Australia','China','Russia', 'United States', 'Germany', 'Soviet Union', 'Japan')) %>% # Only keep entries from the selected countries.\n",
    "        filter(Medal %in% c('Gold', 'Silver', 'Bronze'))) + # Only keep entries that got a medal.\n",
    "    geom_bar(aes(x=Team, fill=Medal)) + # Add an histogram (bar chart about distribution) in the plot\n",
    "    scale_fill_manual(values=c(\"#824A02\", \"#FEE101\", \"#D7D7D7\")) + # Custom gold, silver and bonze colors colors\n",
    "    theme_bw() + NULL\n",
    "print(p)"
   ]
  },
  {
   "cell_type": "code",
   "execution_count": null,
   "metadata": {
    "_cell_guid": "672d6a96-e700-4489-983b-06ff32070e30",
    "_uuid": "8c4e6daa-1480-48b8-866b-c2889459ef72",
    "execution": {
     "iopub.execute_input": "2021-12-10T06:03:20.240197Z",
     "iopub.status.busy": "2021-12-10T06:03:20.237883Z",
     "iopub.status.idle": "2021-12-10T06:03:20.267858Z"
    },
    "jupyter": {
     "outputs_hidden": false
    }
   },
   "outputs": [],
   "source": [
    "print(unique(olympics$Medal))"
   ]
  },
  {
   "cell_type": "code",
   "execution_count": null,
   "metadata": {
    "_cell_guid": "8b436355-9193-451b-b4d4-9965a704b846",
    "_uuid": "5d46847e-1df3-4e79-9532-383171df6a86",
    "execution": {
     "iopub.execute_input": "2021-12-10T06:03:20.274102Z",
     "iopub.status.busy": "2021-12-10T06:03:20.271801Z",
     "iopub.status.idle": "2021-12-10T06:03:20.839022Z"
    },
    "jupyter": {
     "outputs_hidden": false
    }
   },
   "outputs": [],
   "source": [
    "# Globally, how medals are distributed among the previous countries?\n",
    "p <- ggplot(olympics %>%\n",
    "        filter(Team %in% c('India','Australia','China','Russia', 'United States', 'Germany', 'Soviet Union', 'Japan')) %>% # Only keep entries from the selected countries.\n",
    "        filter(Medal %in% c('No Medal','Gold', 'Silver', 'Bronze'))) + # Only keep entries that got a medal.\n",
    "    geom_bar(aes(x=Team, fill=Medal)) + # Add an histogram (bar chart about distribution) in the plot\n",
    "    scale_fill_manual(values=c(\"#824A02\", \"#FEE101\",\"#888888\", \"#D7D7D7\")) + # Custom gold, silver and bonze colors colors\n",
    "    theme_bw() + NULL\n",
    "print(p)"
   ]
  },
  {
   "cell_type": "markdown",
   "metadata": {
    "_cell_guid": "ccf7edb0-7a02-4888-97a6-cf264db840aa",
    "_uuid": "2ce05f6a-fef0-4aab-a599-b1e12b38a2e0"
   },
   "source": [
    "Here, we've included the 'no medal' as well to have a clear idea of the number of participants from each country as well."
   ]
  },
  {
   "cell_type": "code",
   "execution_count": null,
   "metadata": {
    "_cell_guid": "d02b5f84-bb79-4708-a8eb-ccd50ebb9b84",
    "_uuid": "cf81cef1-99fa-48fe-bbba-8f73649ec45f",
    "execution": {
     "iopub.execute_input": "2021-12-10T06:03:20.844732Z",
     "iopub.status.busy": "2021-12-10T06:03:20.843207Z",
     "iopub.status.idle": "2021-12-10T06:03:20.943286Z"
    },
    "jupyter": {
     "outputs_hidden": false
    }
   },
   "outputs": [],
   "source": [
    "year_wise_count = olympics %>%\n",
    "    #filter(Team) %>% # Only keep data for some countries\n",
    "    filter(Medal %in% c('Gold', 'Silver', 'Bronze')) %>%\n",
    "    group_by(Year, Team) %>% # Create groups on tuples!\n",
    "    summarize(count=n()) %>% # Count how many gold medals the country won.\n",
    "                                    # Store it in a \"gold_count\" column.\n",
    "    top_n(n=1, wt=count) %>% # Only keep top 10 countries.\n",
    "    arrange(desc(Year)) # Sort the data by number of gold medals.\n",
    "\n",
    "# Print what we just computed\n",
    "year_wise_count"
   ]
  },
  {
   "cell_type": "code",
   "execution_count": null,
   "metadata": {
    "_cell_guid": "a5d03cef-bf08-4f04-8264-488831a9ba7d",
    "_uuid": "0e93f05e-ef67-4553-b20d-2c6d2d5e773b",
    "execution": {
     "iopub.execute_input": "2021-12-10T06:03:20.948781Z",
     "iopub.status.busy": "2021-12-10T06:03:20.947161Z",
     "iopub.status.idle": "2021-12-10T06:03:21.025876Z"
    },
    "jupyter": {
     "outputs_hidden": false
    }
   },
   "outputs": [],
   "source": [
    "games_plot <- olympics %>% count(Games)\n",
    "games_plot"
   ]
  },
  {
   "cell_type": "code",
   "execution_count": null,
   "metadata": {
    "_cell_guid": "8e166090-b055-48eb-8514-1029ff22c534",
    "_uuid": "35ae2d41-7e32-426f-9154-a946b60e0fcb",
    "execution": {
     "iopub.execute_input": "2021-12-10T06:03:21.02982Z",
     "iopub.status.busy": "2021-12-10T06:03:21.0284Z",
     "iopub.status.idle": "2021-12-10T06:03:21.125313Z"
    },
    "jupyter": {
     "outputs_hidden": false
    }
   },
   "outputs": [],
   "source": [
    "\n",
    "coul <- brewer.pal(5, \"Set2\") \n",
    "\n",
    "barplot(games_plot$n,\n",
    "       names.arg = games_plot$Games,\n",
    "       col=coul)"
   ]
  },
  {
   "cell_type": "code",
   "execution_count": null,
   "metadata": {
    "_cell_guid": "0f1e255a-ed4d-4516-964f-2a5f6b44716c",
    "_uuid": "b55100df-4c75-4a7a-99ce-b264b1867830",
    "execution": {
     "iopub.execute_input": "2021-12-10T06:03:21.130159Z",
     "iopub.status.busy": "2021-12-10T06:03:21.128432Z",
     "iopub.status.idle": "2021-12-10T06:03:21.181535Z"
    },
    "jupyter": {
     "outputs_hidden": false
    }
   },
   "outputs": [],
   "source": [
    "years_plot <- olympics %>% count(Year)\n",
    "years_plot"
   ]
  },
  {
   "cell_type": "code",
   "execution_count": null,
   "metadata": {
    "_cell_guid": "5232cb3a-2478-45e8-b7b3-28e188de0c6e",
    "_uuid": "c6fde1ea-7de7-4803-adea-82135fd9e925",
    "execution": {
     "iopub.execute_input": "2021-12-10T06:03:21.185899Z",
     "iopub.status.busy": "2021-12-10T06:03:21.184353Z",
     "iopub.status.idle": "2021-12-10T06:03:21.269598Z"
    },
    "jupyter": {
     "outputs_hidden": false
    }
   },
   "outputs": [],
   "source": [
    "barplot(years_plot$n,\n",
    "       names.arg = years_plot$Year,\n",
    "       col=coul,\n",
    "       las=3)"
   ]
  },
  {
   "cell_type": "markdown",
   "metadata": {
    "_cell_guid": "4fb83bd7-fbc6-405f-8aee-9ede6de1d970",
    "_uuid": "17ddb05b-7022-42a0-a082-ded59f76fb6e"
   },
   "source": [
    "Number of games over the years increased."
   ]
  },
  {
   "cell_type": "code",
   "execution_count": null,
   "metadata": {
    "_cell_guid": "ad4d9c3a-946d-41c9-9488-3fe5adabd5d3",
    "_uuid": "227267dc-425a-4397-923d-d40d9a00f060",
    "execution": {
     "iopub.execute_input": "2021-12-10T06:03:21.275135Z",
     "iopub.status.busy": "2021-12-10T06:03:21.27326Z",
     "iopub.status.idle": "2021-12-10T06:03:21.333683Z"
    },
    "jupyter": {
     "outputs_hidden": false
    }
   },
   "outputs": [],
   "source": [
    "City_plot <- olympics %>% count(City)\n",
    "City_plot"
   ]
  },
  {
   "cell_type": "code",
   "execution_count": null,
   "metadata": {
    "_cell_guid": "b8301491-28d7-4f76-ad2b-f2fab158a5df",
    "_uuid": "92304cee-361e-48d1-b1cc-ade8f38e6890",
    "execution": {
     "iopub.execute_input": "2021-12-10T06:03:21.339927Z",
     "iopub.status.busy": "2021-12-10T06:03:21.3381Z",
     "iopub.status.idle": "2021-12-10T06:03:21.406388Z"
    },
    "jupyter": {
     "outputs_hidden": false
    }
   },
   "outputs": [],
   "source": [
    "Sport_plot <- olympics %>% count(Sport)\n",
    "Sport_plot"
   ]
  },
  {
   "cell_type": "code",
   "execution_count": null,
   "metadata": {
    "_cell_guid": "ff8c443f-7c63-4aff-b7ba-b4823c6ede5b",
    "_uuid": "a35439ac-5cfb-459a-b1db-df730127b8a6",
    "execution": {
     "iopub.execute_input": "2021-12-10T06:03:21.411098Z",
     "iopub.status.busy": "2021-12-10T06:03:21.409413Z",
     "iopub.status.idle": "2021-12-10T06:03:21.500699Z"
    },
    "jupyter": {
     "outputs_hidden": false
    }
   },
   "outputs": [],
   "source": [
    "barplot(Sport_plot$n,\n",
    "       names.arg = Sport_plot$Sport,\n",
    "       col=coul,\n",
    "       las=3)"
   ]
  },
  {
   "cell_type": "code",
   "execution_count": null,
   "metadata": {
    "_cell_guid": "149c7472-b32a-4c1c-9a66-405bc66d958e",
    "_uuid": "2e411d87-1685-421f-9390-8c48c8862637",
    "execution": {
     "iopub.execute_input": "2021-12-10T06:03:21.505394Z",
     "iopub.status.busy": "2021-12-10T06:03:21.503723Z",
     "iopub.status.idle": "2021-12-10T06:03:21.581948Z"
    },
    "jupyter": {
     "outputs_hidden": false
    }
   },
   "outputs": [],
   "source": [
    "sport_data = olympics %>%\n",
    "    group_by(Sport) %>% # Create a group for each Sport\n",
    "    summarize(sport_count = n()) %>% \n",
    "                                    \n",
    "    top_n(n=10, wt=sport_count) %>% \n",
    "    arrange(desc(sport_count)) #\n",
    "\n",
    "# Print what we just computed\n",
    "sport_data"
   ]
  },
  {
   "cell_type": "code",
   "execution_count": null,
   "metadata": {
    "_cell_guid": "d6fd1949-b420-4167-900f-d9e5b587502e",
    "_uuid": "79d11ebd-82e6-41d1-8613-aee6ab83cf2e",
    "execution": {
     "iopub.execute_input": "2021-12-10T06:03:21.587212Z",
     "iopub.status.busy": "2021-12-10T06:03:21.585612Z",
     "iopub.status.idle": "2021-12-10T06:03:21.811504Z"
    },
    "jupyter": {
     "outputs_hidden": false
    }
   },
   "outputs": [],
   "source": [
    "ggplot(data = sport_data, aes(x = Sport, y = sport_count)) +\n",
    "       geom_bar(stat = \"identity\") +\n",
    "       coord_flip() \n",
    "#top 10 sports in olympics over the years"
   ]
  },
  {
   "cell_type": "code",
   "execution_count": null,
   "metadata": {
    "_cell_guid": "9b906bc1-700c-4f2f-b7f9-069a72f62461",
    "_uuid": "58d8afbb-01c9-471b-9dcb-73b2dcf01351",
    "execution": {
     "iopub.execute_input": "2021-12-10T06:03:21.818095Z",
     "iopub.status.busy": "2021-12-10T06:03:21.816362Z",
     "iopub.status.idle": "2021-12-10T06:03:21.841315Z"
    },
    "jupyter": {
     "outputs_hidden": false
    }
   },
   "outputs": [],
   "source": [
    "print(length(unique(olympics$Year)))"
   ]
  },
  {
   "cell_type": "markdown",
   "metadata": {
    "_cell_guid": "3e48fff8-a24d-4d33-aa67-06d158e8f088",
    "_uuid": "d1cc5abc-ed26-43b1-bdbc-3a140346bf2c"
   },
   "source": [
    "Over a course of 35 olympics, United States secured the highest number of Gold medals. That is 29 times. Which evidently proves the fact that United States dominates over the olympics. And only recently canada started catching up. Soviet Union has providid United Nations a tough competition over the years."
   ]
  },
  {
   "cell_type": "markdown",
   "metadata": {
    "_cell_guid": "870c5528-4355-49c8-a0e6-e686bbe73798",
    "_uuid": "b0f1e98e-7ac8-4d16-8695-303361f3bf16"
   },
   "source": [
    "As you can see from the plot above, this is the winning over the years of a certain few teams."
   ]
  },
  {
   "cell_type": "markdown",
   "metadata": {
    "_cell_guid": "31265eb5-0ca2-456f-b38d-8fa94407586a",
    "_uuid": "a67b2483-c30d-4b50-b21f-ab75e6c76294"
   },
   "source": [
    "Clustering Visualization Techniques."
   ]
  },
  {
   "cell_type": "code",
   "execution_count": null,
   "metadata": {
    "_cell_guid": "1153cc28-2fea-4270-a877-8356ed77c405",
    "_uuid": "83bd3970-fda2-422e-b038-f396fe62d4fc",
    "execution": {
     "iopub.execute_input": "2021-12-10T06:03:21.846738Z",
     "iopub.status.busy": "2021-12-10T06:03:21.845165Z",
     "iopub.status.idle": "2021-12-10T06:03:33.609367Z"
    },
    "jupyter": {
     "outputs_hidden": false
    }
   },
   "outputs": [],
   "source": [
    "features <- olympics[,c(3:6,10,13)]\n",
    "features <- features[complete.cases(features), ] \n",
    "plt0 <- features %>% filter(Year >= 1924) %>% ggplot(aes(x = Height, y = Weight)) + geom_density_2d(aes(color = as.factor(Sex))) + facet_wrap(.~Year)\n",
    "plt0"
   ]
  },
  {
   "cell_type": "markdown",
   "metadata": {
    "_cell_guid": "22c248f4-7a9e-402b-adca-bd057cc75130",
    "_uuid": "04d58b5d-5625-4769-845b-cd305877ca94"
   },
   "source": [
    "This cluster plot show the height and weight plot over the years. This is a time series analysis."
   ]
  },
  {
   "cell_type": "code",
   "execution_count": null,
   "metadata": {
    "_cell_guid": "aa858fa4-27a2-43af-8a65-736fca220a25",
    "_uuid": "0d8d7a82-05ef-414e-a571-8e9fc6724eff",
    "execution": {
     "iopub.execute_input": "2021-12-10T06:03:33.613183Z",
     "iopub.status.busy": "2021-12-10T06:03:33.61177Z",
     "iopub.status.idle": "2021-12-10T06:03:34.652254Z"
    },
    "jupyter": {
     "outputs_hidden": false
    }
   },
   "outputs": [],
   "source": [
    "features %>% filter(Year == 2004) %>% filter(Sport == \"Weightlifting\") %>% ggplot(aes(x = Height, y = Weight)) + geom_density_2d(aes(color = as.factor(Sex))) + xlim(c(120, 215)) + ylim(30, 130)\n",
    "features %>% filter(Year == 2004) %>% filter(Sport == \"Volleyball\") %>% ggplot(aes(x = Height, y = Weight)) + geom_density_2d(aes(color = as.factor(Sex))) + xlim(c(120, 215)) + ylim(30, 130)"
   ]
  },
  {
   "cell_type": "markdown",
   "metadata": {
    "_cell_guid": "3ce5f16c-4c33-4690-bca1-a533d2f39555",
    "_uuid": "726c05a0-551f-4a5a-813d-0dfff874da19"
   },
   "source": [
    "This geom density graph depicts the density of a particular 'height' and 'weight' among various participants."
   ]
  },
  {
   "cell_type": "markdown",
   "metadata": {
    "_cell_guid": "5b4f2f34-a26d-4548-9ad8-672c9bda3bf2",
    "_uuid": "493a2f48-ba5c-42b7-a12b-16c4db6465ea"
   },
   "source": [
    "Naturally, the various volleyball players are taller, however the  weightlifters vary a lot in weight as they have different weight categoris, which makes sense. \n",
    "Following this,let's go to the clustering. Starting with k-means, 20 initial clusters. And, taking averages per category."
   ]
  },
  {
   "cell_type": "code",
   "execution_count": null,
   "metadata": {
    "_cell_guid": "c37c587e-c709-4ab8-b3bf-220a57b3bf2e",
    "_uuid": "795efa11-30c1-4a31-b61c-524505a0d241",
    "execution": {
     "iopub.execute_input": "2021-12-10T06:03:34.656209Z",
     "iopub.status.busy": "2021-12-10T06:03:34.654734Z",
     "iopub.status.idle": "2021-12-10T06:03:38.235897Z"
    },
    "jupyter": {
     "outputs_hidden": false
    }
   },
   "outputs": [],
   "source": [
    "\n",
    "options(ggrepel.max.overlaps = Inf)\n",
    "features <- features %>% group_by(Sport) %>% sample_n(25, replace =  TRUE)\n",
    "\n",
    "features <- features %>% mutate(Sex = ifelse(Sex == \"M\",1,0))\n",
    "cfeat <- features[,c(1:4)]\n",
    "clust <- kmeans(scale(cfeat), 20)\n",
    "labels <- clust$cluster\n",
    "cfeat <- cfeat %>% mutate(labels = labels) %>% mutate(Year = features$Year) %>% mutate(Sport = features$Sport) %>% mutate(Age = features$Age)\n",
    "sportMean <- cfeat %>% group_by(Sport) %>% mutate(sportAvgHeight = mean(Height)) %>% mutate(sportAvgWeight = mean(Weight))\n",
    "sportMean <- distinct(sportMean,Sport, .keep_all = TRUE)\n",
    "cfeat2 <- cfeat %>% group_by(Sport) %>% sample_n(10, replace =  TRUE)#[sample(nrow(cfeat), 2000),]\n",
    "plt <- cfeat %>% ggplot() + geom_point(aes(color = as.factor(labels), x = Height, y = Weight, text = paste(\"Sport: \", Sport, \", Year:\", Year, \", Age:\", Age)))\n",
    "plt\n",
    "#plt <- cfeat2 %>% ggplot() + geom_point(aes(color = as.factor(labels), x = Height, y = Weight, text = paste(\"Sport: \", Sport, \", Year:\", Year, \", Age:\", Age)))\n",
    "#ggplotly(plt,, hover = c(\"plt$text\"))\n",
    "sportMean %>% ggplot() + geom_label_repel(aes(label = Sport,x = sportAvgHeight, y = sportAvgWeight), size = 4)"
   ]
  },
  {
   "cell_type": "markdown",
   "metadata": {
    "_cell_guid": "a14d355f-526a-4d8d-adf7-03f28d7bba58",
    "_uuid": "b7760631-71b0-4432-b302-c9d181a1eb0e"
   },
   "source": [
    "20 clusters is too many to keep track of, to find a optimum number for k we can use various algorithms such as... elbow method, silhouette method"
   ]
  },
  {
   "cell_type": "markdown",
   "metadata": {
    "_cell_guid": "a8d21f84-0522-4cdb-ae10-4b6d735649e4",
    "_uuid": "e229a4b1-7fd3-40e0-ad42-05d9e0e2787b"
   },
   "source": [
    "For this we can use the silhouette method."
   ]
  },
  {
   "cell_type": "code",
   "execution_count": null,
   "metadata": {
    "_cell_guid": "476d3a0b-ce93-4984-8153-a73aa2fa9c5b",
    "_uuid": "23f453d7-53e6-480e-b451-88eba948ce21",
    "execution": {
     "iopub.execute_input": "2021-12-10T06:03:38.239875Z",
     "iopub.status.busy": "2021-12-10T06:03:38.238396Z",
     "iopub.status.idle": "2021-12-10T06:03:44.867895Z"
    },
    "jupyter": {
     "outputs_hidden": false
    }
   },
   "outputs": [],
   "source": [
    "\n",
    "nbc <- NbClust(data = scale(cfeat[,c(1:4)]), method=\"kmeans\", index = \"silhouette\")\n",
    "nbc$Best.nc\n",
    "clust <- kmeans(scale(cfeat[,c(1:4)]), 2)\n",
    "labels2 <- clust$cluster\n",
    "cfeat <- cfeat %>% mutate(labels = labels2) %>% mutate(Year = features$Year) %>% mutate(Sport = features$Sport) %>% mutate(Age = features$Age)\n",
    "plt <- cfeat %>% ggplot() + geom_point(aes(color = as.factor(labels2), x = Height, y = Weight, text = paste(\"Sport: \", Sport, \", Year:\", Year, \", Age:\", Age)))\n",
    "plt"
   ]
  },
  {
   "cell_type": "markdown",
   "metadata": {
    "_cell_guid": "78421d76-d244-4a04-9d9b-79f593c06787",
    "_uuid": "d614ec67-37f6-4801-88d5-83efd45a5752"
   },
   "source": [
    "According to silhouette method, the optimal number of k is 2."
   ]
  },
  {
   "cell_type": "markdown",
   "metadata": {
    "_cell_guid": "bbd9e10a-8791-4aed-8868-3cc954f71037",
    "_uuid": "c4d3936c-05ad-441e-95f3-6beb078ba8c9"
   },
   "source": [
    "From BMI and sex perspectives... the multiplication by 10000 (100^2) is due to the height being presented in centimeters."
   ]
  },
  {
   "cell_type": "code",
   "execution_count": null,
   "metadata": {
    "_cell_guid": "205cdd1f-fa5b-4a2c-804d-8b15da90b65a",
    "_uuid": "1c261d1a-9662-4258-b5ec-7367017085ad",
    "execution": {
     "iopub.execute_input": "2021-12-10T06:03:44.871882Z",
     "iopub.status.busy": "2021-12-10T06:03:44.870459Z",
     "iopub.status.idle": "2021-12-10T06:03:45.631701Z"
    },
    "jupyter": {
     "outputs_hidden": false
    }
   },
   "outputs": [],
   "source": [
    "cfeat <- cfeat %>% mutate(BMI = 10000*Weight/(Height*Height))\n",
    "plt <- cfeat %>% ggplot() + geom_point(aes(color = as.factor(labels2), x = Age, y = BMI, text = paste(\"Sport: \", Sport, \", Year:\", Year, \", Age:\", Age)), alpha = 0.7)\n",
    "plt\n",
    "plt <- cfeat %>% ggplot() + geom_jitter(aes(color = as.factor(labels2), x = Sex, y = Age), alpha = 0.7)\n",
    "plt"
   ]
  },
  {
   "cell_type": "markdown",
   "metadata": {
    "_cell_guid": "fe22ae71-51fa-4082-9bdd-5f7a94b07f65",
    "_uuid": "a3711c22-dd2e-42c2-801c-f2f735bc4193"
   },
   "source": [
    "Looks like K-means preferred to prioritize Sex over the other attributes... Time to try DBscan for good measure."
   ]
  },
  {
   "cell_type": "markdown",
   "metadata": {
    "_cell_guid": "37a64803-3a23-4da0-8576-c88ca94e8b3c",
    "_uuid": "dfe162d2-6300-4367-b2c1-762a3f5aa87f"
   },
   "source": [
    "Next to try : DBscan for good measure."
   ]
  },
  {
   "cell_type": "code",
   "execution_count": null,
   "metadata": {
    "_cell_guid": "2ce617f8-776d-416b-9ea6-a3915b6e962f",
    "_uuid": "d18029dc-3239-4a04-af7e-83f99e8d3f2b",
    "execution": {
     "iopub.execute_input": "2021-12-10T06:03:45.635624Z",
     "iopub.status.busy": "2021-12-10T06:03:45.634182Z",
     "iopub.status.idle": "2021-12-10T06:03:46.119795Z"
    },
    "jupyter": {
     "outputs_hidden": false
    }
   },
   "outputs": [],
   "source": [
    "\n",
    "clust <- hdbscan(scale(cfeat[,c(1:4)]), minPts = length(unique(cfeat$Sport)))\n",
    "labels3 <- clust$cluster\n",
    "plt <- cfeat %>% ggplot() + geom_point(aes(color = as.factor(labels3), x = Height, y = Weight, text = paste(\"Sport: \", Sport, \", Year:\", Year, \", Age:\", Age)))\n",
    "plt"
   ]
  },
  {
   "cell_type": "markdown",
   "metadata": {
    "_cell_guid": "d47298ab-803c-4494-be1b-db0764d2de65",
    "_uuid": "ea61be1c-a04e-4dad-95b5-6a57c4af4595"
   },
   "source": [
    "When HDB clustering method is implemented, there is a third cluster(represented in red!) \n",
    "\n",
    "TO DO : identify the red cluster"
   ]
  },
  {
   "cell_type": "code",
   "execution_count": null,
   "metadata": {
    "_cell_guid": "ac8ce930-9a4f-403c-8be0-8c48a4f5df95",
    "_uuid": "28c57fcf-50dd-4f2a-aa41-c8ca6e62a053",
    "execution": {
     "iopub.execute_input": "2021-12-10T06:03:46.123711Z",
     "iopub.status.busy": "2021-12-10T06:03:46.122288Z",
     "iopub.status.idle": "2021-12-10T06:03:46.586635Z"
    },
    "jupyter": {
     "outputs_hidden": false
    }
   },
   "outputs": [],
   "source": [
    "plt <- cfeat %>% ggplot() + geom_point(aes(color = as.factor(labels3), x = Age, y = BMI, text = paste(\"Sport: \", Sport, \", Year:\", Year, \", Age:\", Age)), alpha = 0.7)\n",
    "plt <- cfeat %>% ggplot() + geom_jitter(aes(color = as.factor(labels3), x = Sex, y = Age), alpha = 0.7)\n",
    "plt"
   ]
  },
  {
   "cell_type": "markdown",
   "metadata": {
    "_cell_guid": "02c43256-82c5-49e5-83be-e9f13baf7e8e",
    "_uuid": "1bd7862f-6ba8-473c-802b-18f27a9c2e44"
   },
   "source": [
    "Red cluster  is representing some of the largest BMIs and ages. \n",
    "Although a few of them are exceptionally tall.\n",
    "Let's analyse the sport they belong to."
   ]
  },
  {
   "cell_type": "code",
   "execution_count": null,
   "metadata": {
    "_cell_guid": "bc6a06fc-5e96-4b8c-8b66-5f1121c64b1f",
    "_uuid": "177cf009-1e07-4c3d-929c-b4dc4e1914a6",
    "execution": {
     "iopub.execute_input": "2021-12-10T06:03:46.590501Z",
     "iopub.status.busy": "2021-12-10T06:03:46.589084Z",
     "iopub.status.idle": "2021-12-10T06:03:46.633475Z"
    },
    "jupyter": {
     "outputs_hidden": false
    }
   },
   "outputs": [],
   "source": [
    "cfeat %>% mutate(labs = labels3) %>% filter(labs == 0)"
   ]
  },
  {
   "cell_type": "markdown",
   "metadata": {
    "_cell_guid": "fba65665-ee9d-4fac-8759-714445fcdd04",
    "_uuid": "c8e3cf10-d77f-46b6-a9fd-3bf55db340f6"
   },
   "source": [
    "The red class thus explains a few exceptional cases across all sports."
   ]
  },
  {
   "cell_type": "code",
   "execution_count": null,
   "metadata": {
    "_cell_guid": "14c7864a-15b4-413b-8527-506469487692",
    "_uuid": "d19e8a8e-3a2b-405f-aaa0-558e1f8efa7e",
    "execution": {
     "iopub.execute_input": "2021-12-10T06:03:46.63727Z",
     "iopub.status.busy": "2021-12-10T06:03:46.635912Z",
     "iopub.status.idle": "2021-12-10T06:07:44.588988Z"
    },
    "jupyter": {
     "outputs_hidden": false
    }
   },
   "outputs": [],
   "source": [
    "\n",
    "dta <- olympics\n",
    "print(\"Data before label encoding..\\n\")\n",
    "head(dta)\n",
    "label <- LabelEncoder$new()\n",
    "\n",
    "\n",
    "dta$Name <- label$fit_transform(dta$Name)\n",
    "dta$Sex <- label$fit_transform(dta$Sex)\n",
    "dta$Team <- label$fit_transform(dta$Team)\n",
    "dta$NOC <- label$fit_transform(dta$NOC)\n",
    "dta$Games <- label$fit_transform(dta$Games)\n",
    "dta$Season <- label$fit_transform(dta$Season)\n",
    "dta$City <- label$fit_transform(dta$City)\n",
    "dta$Sport <- label$fit_transform(dta$Sport)\n",
    "dta$Event <- label$fit_transform(dta$Event)\n",
    "dta$Medal <- label$fit_transform(dta$Medal)\n",
    "print(\"Data after label encoding..\\n\")\n",
    "head(dta)"
   ]
  },
  {
   "cell_type": "code",
   "execution_count": null,
   "metadata": {
    "_cell_guid": "1b9b6198-019c-4c28-a230-e6a3a101c21b",
    "_uuid": "c729b00c-ab83-47fb-80ba-1a4e281da0db",
    "execution": {
     "iopub.execute_input": "2021-12-10T06:07:44.593028Z",
     "iopub.status.busy": "2021-12-10T06:07:44.591527Z",
     "iopub.status.idle": "2021-12-10T06:07:44.605721Z"
    },
    "jupyter": {
     "outputs_hidden": false
    }
   },
   "outputs": [],
   "source": [
    "dtaold <- dta"
   ]
  },
  {
   "cell_type": "code",
   "execution_count": null,
   "metadata": {
    "_cell_guid": "f8fee662-6818-4229-ba40-ef3ef77b9879",
    "_uuid": "2701d168-01f5-4f2b-a5f5-7d1bc1f633be",
    "execution": {
     "iopub.execute_input": "2021-12-10T06:07:44.611108Z",
     "iopub.status.busy": "2021-12-10T06:07:44.609549Z",
     "iopub.status.idle": "2021-12-10T06:07:44.65187Z"
    },
    "jupyter": {
     "outputs_hidden": false
    }
   },
   "outputs": [],
   "source": [
    "#Converting NA to 0 and (gold, silver, bronze) to 0 value for binomial classification\n",
    "dta = dta %>% mutate(Medal = if_else(Medal == 0,0,1))\n",
    "head(dta)"
   ]
  },
  {
   "cell_type": "code",
   "execution_count": null,
   "metadata": {
    "_cell_guid": "2d0cc894-e194-48d5-8869-f77deb0f00f5",
    "_uuid": "e4fd17c8-2012-4cac-97f6-ea4f18eea385",
    "execution": {
     "iopub.execute_input": "2021-12-10T06:07:44.656309Z",
     "iopub.status.busy": "2021-12-10T06:07:44.654736Z",
     "iopub.status.idle": "2021-12-10T06:07:44.793987Z"
    },
    "jupyter": {
     "outputs_hidden": false
    }
   },
   "outputs": [],
   "source": [
    "print(length(unique(dta$Medal)))\n",
    "print(length(unique(dta$Age)))\n",
    "print(length(unique(dta$Name)))\n",
    "print(length(unique(dta$Sex)))\n",
    "print(length(unique(dta$Team)))\n",
    "print(length(unique(dta$NOC)))\n",
    "print(length(unique(dta$Games)))\n",
    "print(length(unique(dta$Season)))\n",
    "print(length(unique(dta$City)))\n",
    "print(length(unique(dta$Sport)))\n",
    "print(length(unique(dta$Event)))"
   ]
  },
  {
   "cell_type": "code",
   "execution_count": null,
   "metadata": {
    "_cell_guid": "464b17fa-8762-4183-b5c3-30f10fe2eeb5",
    "_uuid": "6f7923fa-7b1c-4849-97c3-b4cbfa2a0c81",
    "execution": {
     "iopub.execute_input": "2021-12-10T06:07:44.798029Z",
     "iopub.status.busy": "2021-12-10T06:07:44.796605Z",
     "iopub.status.idle": "2021-12-10T06:07:44.814254Z"
    },
    "jupyter": {
     "outputs_hidden": false
    }
   },
   "outputs": [],
   "source": [
    "dta2 <- dta #for naive bayes algorithm\n",
    "dta3 <- dta #for SVM"
   ]
  },
  {
   "cell_type": "code",
   "execution_count": null,
   "metadata": {
    "_cell_guid": "6b38aff6-f719-4a06-afdf-c39a7d0cd35d",
    "_uuid": "5c61de28-8a8a-4b5d-bfc6-f693f7ec0542",
    "execution": {
     "iopub.execute_input": "2021-12-10T06:07:44.818424Z",
     "iopub.status.busy": "2021-12-10T06:07:44.816949Z",
     "iopub.status.idle": "2021-12-10T06:07:45.053693Z"
    },
    "jupyter": {
     "outputs_hidden": false
    }
   },
   "outputs": [],
   "source": [
    "set.seed(15)\n",
    "tr_samples <- dta$Medal %>%\n",
    "                 createDataPartition(p=0.8,list = FALSE)\n",
    "train_data <- dta[tr_samples,]\n",
    "test_data <- dta[-tr_samples,]"
   ]
  },
  {
   "cell_type": "markdown",
   "metadata": {
    "_cell_guid": "f18602cb-7280-4f5c-99e8-b74c55a52f01",
    "_uuid": "5e1168ce-423e-43a2-a987-51d867a0aed9"
   },
   "source": [
    "Multiple Regression Model"
   ]
  },
  {
   "cell_type": "code",
   "execution_count": null,
   "metadata": {
    "_cell_guid": "8ba11fdf-4cff-4e29-a011-86adf167c634",
    "_uuid": "e73d2676-0815-405d-806a-60031322dc3e",
    "execution": {
     "iopub.execute_input": "2021-12-10T06:07:45.057811Z",
     "iopub.status.busy": "2021-12-10T06:07:45.056379Z",
     "iopub.status.idle": "2021-12-10T06:07:46.533793Z"
    },
    "jupyter": {
     "outputs_hidden": false
    }
   },
   "outputs": [],
   "source": [
    "model <- glm(Medal~.,data=train_data,family = \"binomial\")\n",
    "summary(model)"
   ]
  },
  {
   "cell_type": "markdown",
   "metadata": {
    "_cell_guid": "e48b8798-a029-4331-8451-814c62e1cdf9",
    "_uuid": "8f342c8b-d221-4588-a8a0-45d448f0d052"
   },
   "source": [
    "Predicting Test Data"
   ]
  },
  {
   "cell_type": "code",
   "execution_count": null,
   "metadata": {
    "_cell_guid": "e112c11c-266e-4f2b-8ebb-4270ea50f469",
    "_uuid": "0b9fd81d-809c-47da-9eea-27cc7d66aedf",
    "execution": {
     "iopub.execute_input": "2021-12-10T06:07:46.537466Z",
     "iopub.status.busy": "2021-12-10T06:07:46.536126Z",
     "iopub.status.idle": "2021-12-10T06:07:46.901536Z"
    },
    "jupyter": {
     "outputs_hidden": false
    }
   },
   "outputs": [],
   "source": [
    "probability_list <- model %>%\n",
    "         predict(test_data,type=\"response\")\n",
    "head(probability_list)"
   ]
  },
  {
   "cell_type": "code",
   "execution_count": null,
   "metadata": {
    "_cell_guid": "a6644a74-7d08-487c-8766-78240f36ef6d",
    "_uuid": "1ab8cb81-8bd7-4d80-8258-cd884bfaaba9",
    "execution": {
     "iopub.execute_input": "2021-12-10T06:07:46.908199Z",
     "iopub.status.busy": "2021-12-10T06:07:46.905771Z",
     "iopub.status.idle": "2021-12-10T06:07:46.98308Z"
    },
    "jupyter": {
     "outputs_hidden": false
    }
   },
   "outputs": [],
   "source": [
    "predicted_class <- ifelse(probability_list<0.5,0,1)\n",
    "head(predicted_class)"
   ]
  },
  {
   "cell_type": "markdown",
   "metadata": {
    "_cell_guid": "3f903ed6-2387-40fa-b9a9-13a123e652a9",
    "_uuid": "383916c4-c67b-4e26-8048-480d6c3674a9"
   },
   "source": [
    "Model Accuracy"
   ]
  },
  {
   "cell_type": "code",
   "execution_count": null,
   "metadata": {
    "_cell_guid": "b085c26e-44ed-4f41-85ed-a2746647ee31",
    "_uuid": "67a5db79-c47c-4d03-b11e-9aa3393126e6",
    "execution": {
     "iopub.execute_input": "2021-12-10T06:07:46.989921Z",
     "iopub.status.busy": "2021-12-10T06:07:46.987428Z",
     "iopub.status.idle": "2021-12-10T06:07:47.017992Z"
    },
    "jupyter": {
     "outputs_hidden": false
    }
   },
   "outputs": [],
   "source": [
    "test_data = test_data %>% mutate(Medal = ifelse(Medal<0.5,0,1))\n",
    "\n",
    "\n",
    "print(paste(\"Accuracy =\",mean(predicted_class==test_data$Medal)*100,\"%\",sep =\" \"))"
   ]
  },
  {
   "cell_type": "markdown",
   "metadata": {
    "_cell_guid": "35e53314-15c3-4f91-96c4-d735c11e8ac5",
    "_uuid": "97611843-df8f-4c7b-a5c6-b018754fcdb6"
   },
   "source": [
    "Multiple Regression Model - (Multinominal)\n",
    "\n",
    "- to check if we can predict the medal type as well."
   ]
  },
  {
   "cell_type": "code",
   "execution_count": null,
   "metadata": {
    "_cell_guid": "ddeea731-5bf7-4168-ade0-5861c611f08e",
    "_uuid": "662ed6ad-b0d3-4da9-b70b-039fca0e1ad5",
    "execution": {
     "iopub.execute_input": "2021-12-10T06:07:47.022007Z",
     "iopub.status.busy": "2021-12-10T06:07:47.020535Z",
     "iopub.status.idle": "2021-12-10T06:08:08.340112Z"
    },
    "jupyter": {
     "outputs_hidden": false
    }
   },
   "outputs": [],
   "source": [
    "set.seed(15)\n",
    "tr_samples <- dtaold$Medal %>%\n",
    "           createDataPartition(p=0.8,list=FALSE)\n",
    "train_data <- dtaold[tr_samples,]\n",
    "test_data <- dtaold[-tr_samples,]\n",
    "\n",
    "mulnorm_model <- multinom(Medal~.,data = dtaold)"
   ]
  },
  {
   "cell_type": "code",
   "execution_count": null,
   "metadata": {
    "_cell_guid": "3c9ad2cb-9bfd-4c24-886e-31476f649131",
    "_uuid": "e7bee8fb-92ae-4103-97c9-c03407a25fb7",
    "execution": {
     "iopub.execute_input": "2021-12-10T06:08:08.344041Z",
     "iopub.status.busy": "2021-12-10T06:08:08.342586Z",
     "iopub.status.idle": "2021-12-10T06:08:26.423052Z"
    },
    "jupyter": {
     "outputs_hidden": false
    }
   },
   "outputs": [],
   "source": [
    "summary(mulnorm_model)"
   ]
  },
  {
   "cell_type": "code",
   "execution_count": null,
   "metadata": {
    "_cell_guid": "f09b459a-63af-4d83-9da2-4ca27976c061",
    "_uuid": "af844494-c1b3-4fe6-84c2-74ac030e066c",
    "execution": {
     "iopub.execute_input": "2021-12-10T06:08:26.430365Z",
     "iopub.status.busy": "2021-12-10T06:08:26.427691Z",
     "iopub.status.idle": "2021-12-10T06:08:26.563365Z"
    },
    "jupyter": {
     "outputs_hidden": false
    }
   },
   "outputs": [],
   "source": [
    "#predictions\n",
    "predicted_class <- mulnorm_model%>%predict(test_data)\n",
    "head(predicted_class)"
   ]
  },
  {
   "cell_type": "markdown",
   "metadata": {
    "_cell_guid": "6128ec8a-f1c9-4e1a-ade7-1b273a49593c",
    "_uuid": "6a79633b-d626-466d-9bde-aae9ee360de7"
   },
   "source": [
    "Modal Accuracy"
   ]
  },
  {
   "cell_type": "code",
   "execution_count": null,
   "metadata": {
    "_cell_guid": "39093f94-494e-4d83-9c27-fb687574fc33",
    "_uuid": "c52bab7e-c0fe-4a40-9424-cd09cc903cb8",
    "execution": {
     "iopub.execute_input": "2021-12-10T06:08:26.567209Z",
     "iopub.status.busy": "2021-12-10T06:08:26.565795Z",
     "iopub.status.idle": "2021-12-10T06:08:26.613476Z"
    },
    "jupyter": {
     "outputs_hidden": false
    }
   },
   "outputs": [],
   "source": [
    "#model accuracy\n",
    "logisticAccuracy = mean(predicted_class==test_data$Medal)*100\n",
    "print(paste(\"Accuracy =\",logisticAccuracy,\"%\",sep =\" \"))"
   ]
  },
  {
   "cell_type": "markdown",
   "metadata": {
    "_cell_guid": "423c3e79-ff82-428f-8016-2642de91272f",
    "_uuid": "18d0e287-45b1-4809-b50d-a4275f11841f"
   },
   "source": [
    "Naive Bayes Algorithm"
   ]
  },
  {
   "cell_type": "code",
   "execution_count": null,
   "metadata": {
    "_cell_guid": "fc0d160d-6f6f-4aa4-b000-b20344531c4f",
    "_uuid": "3c8de2bf-49a5-4932-9e1f-54beb4e5f6ef",
    "execution": {
     "iopub.execute_input": "2021-12-10T06:08:26.617173Z",
     "iopub.status.busy": "2021-12-10T06:08:26.615831Z",
     "iopub.status.idle": "2021-12-10T06:08:26.859837Z"
    },
    "jupyter": {
     "outputs_hidden": false
    }
   },
   "outputs": [],
   "source": [
    "set.seed(15)\n",
    "tr_samples <- dta2$Medal %>%\n",
    "                 createDataPartition(p=0.8,list = FALSE)\n",
    "train_data <- dta2[tr_samples,]\n",
    "test_data <- dta2[-tr_samples,]"
   ]
  },
  {
   "cell_type": "code",
   "execution_count": null,
   "metadata": {
    "_cell_guid": "5998e340-d6e6-4fed-988f-c90a45d95088",
    "_uuid": "bea7c405-42db-4c1c-936d-12a0ff0ffcb8",
    "execution": {
     "iopub.execute_input": "2021-12-10T06:08:26.863675Z",
     "iopub.status.busy": "2021-12-10T06:08:26.862268Z",
     "iopub.status.idle": "2021-12-10T06:08:31.506391Z"
    },
    "jupyter": {
     "outputs_hidden": false
    }
   },
   "outputs": [],
   "source": [
    "NBmodel = naiveBayes(Medal~.,data = dta2)\n",
    "NBmodel"
   ]
  },
  {
   "cell_type": "markdown",
   "metadata": {
    "_cell_guid": "ec1eb6e0-c432-4d81-9610-696eedd33925",
    "_uuid": "86a1391d-3f1a-4d01-bc8e-407e96ae00d0"
   },
   "source": [
    "Predicting"
   ]
  },
  {
   "cell_type": "code",
   "execution_count": null,
   "metadata": {
    "_cell_guid": "ff778d94-1f0e-4e04-9b07-c84c522da89d",
    "_uuid": "ba871e10-45ee-4eab-94b5-b0a90b131a64",
    "execution": {
     "iopub.execute_input": "2021-12-10T06:08:31.510175Z",
     "iopub.status.busy": "2021-12-10T06:08:31.508823Z",
     "iopub.status.idle": "2021-12-10T06:09:25.388927Z"
    },
    "jupyter": {
     "outputs_hidden": false
    }
   },
   "outputs": [],
   "source": [
    "ypred = NBmodel %>% predict(dta2)"
   ]
  },
  {
   "cell_type": "markdown",
   "metadata": {
    "_cell_guid": "aa50f214-c754-4a59-a343-0758923dd51e",
    "_uuid": "883cf408-1d8e-4930-a6c5-3ba9ed8306fe"
   },
   "source": [
    "Accuracy :"
   ]
  },
  {
   "cell_type": "code",
   "execution_count": null,
   "metadata": {
    "_cell_guid": "c8b37744-e745-44a9-86ca-b2bb0ad98035",
    "_uuid": "4013aca8-0728-4eec-954b-afc37cac8e21",
    "execution": {
     "iopub.execute_input": "2021-12-10T06:09:25.393645Z",
     "iopub.status.busy": "2021-12-10T06:09:25.392244Z",
     "iopub.status.idle": "2021-12-10T06:09:25.558334Z"
    },
    "jupyter": {
     "outputs_hidden": false
    }
   },
   "outputs": [],
   "source": [
    "mean(ypred == dta2$Medal)*100"
   ]
  },
  {
   "cell_type": "code",
   "execution_count": null,
   "metadata": {
    "_cell_guid": "d4034ce6-d3d5-4e0b-889e-4a1e2baa5328",
    "_uuid": "a7e717a7-a307-4557-86d4-e35ad57f22fd",
    "execution": {
     "iopub.execute_input": "2021-12-10T06:09:25.562263Z",
     "iopub.status.busy": "2021-12-10T06:09:25.560865Z",
     "iopub.status.idle": "2021-12-10T06:09:25.572644Z"
    },
    "jupyter": {
     "outputs_hidden": false
    }
   },
   "outputs": [],
   "source": [
    "#confusionMatrix(ypred,dta2$Medal)"
   ]
  },
  {
   "cell_type": "markdown",
   "metadata": {
    "_cell_guid": "94f6d30c-4fd3-4ea5-bab6-dd5202b4b588",
    "_uuid": "fcf8a1ff-f97a-4348-8832-3e74f006b453"
   },
   "source": [
    "#can include 10 fold cross validation for increased accuracy\n",
    "\n",
    "\n",
    ".\n",
    ".\n",
    ".\n",
    "\n",
    "#modelCrossValidation = train(quality~.,data = df,method=\"nb\",trControl = trainControl(\"cv\",number = 10))"
   ]
  },
  {
   "cell_type": "markdown",
   "metadata": {
    "_cell_guid": "1e606b9e-2f31-4b47-9aa8-bce9ca0b28cd",
    "_uuid": "48da5c74-84c6-4e5c-a290-474b18a4ffb6"
   },
   "source": [
    "SVM - Support Vector Machine"
   ]
  },
  {
   "cell_type": "code",
   "execution_count": null,
   "metadata": {
    "_cell_guid": "5ee57537-af9d-4bc5-b78f-0eafc39e2822",
    "_uuid": "9c68518f-fbc3-40a0-9993-f25f2b18aa5d",
    "execution": {
     "iopub.execute_input": "2021-12-10T06:09:25.576553Z",
     "iopub.status.busy": "2021-12-10T06:09:25.575067Z",
     "iopub.status.idle": "2021-12-10T06:09:25.591314Z"
    },
    "jupyter": {
     "outputs_hidden": false
    }
   },
   "outputs": [],
   "source": [
    "#SVM using non-linear kernel-RBF\n",
    "set.seed(15)\n",
    "#model <- train(Medal~.,data=train_data,method=\"svmRadial\",trControl=trainControl(\"cv\",number=10),preProcess=c(\"center\",\"scale\"),tuneLength=3)\n",
    "#model$bestTune"
   ]
  },
  {
   "cell_type": "code",
   "execution_count": null,
   "metadata": {
    "_cell_guid": "8977747d-6a05-45ee-a14a-af1e6e72063b",
    "_uuid": "240873fb-a38e-4fb1-9496-1a28aa323b99",
    "execution": {
     "iopub.execute_input": "2021-12-10T06:09:25.59584Z",
     "iopub.status.busy": "2021-12-10T06:09:25.594392Z",
     "iopub.status.idle": "2021-12-10T06:09:25.606342Z"
    },
    "jupyter": {
     "outputs_hidden": false
    }
   },
   "outputs": [],
   "source": [
    "#predicted <- model%>%predict(test_data)"
   ]
  },
  {
   "cell_type": "markdown",
   "metadata": {
    "_cell_guid": "4eb1d40b-01c9-49d0-bf83-2091fa22fabf",
    "_uuid": "554fa856-7428-46f4-b2ea-2eb094028971"
   },
   "source": [
    "Accuracy"
   ]
  },
  {
   "cell_type": "code",
   "execution_count": null,
   "metadata": {
    "_cell_guid": "5bbbe372-6a40-41a7-8354-b29c3bdb57df",
    "_uuid": "3e60e1b1-3261-4598-a688-23d2d490fbd0",
    "execution": {
     "iopub.execute_input": "2021-12-10T06:09:25.610275Z",
     "iopub.status.busy": "2021-12-10T06:09:25.608847Z",
     "iopub.status.idle": "2021-12-10T06:09:25.620639Z"
    },
    "jupyter": {
     "outputs_hidden": false
    }
   },
   "outputs": [],
   "source": [
    "#print(mean(predicted==test_data$Medal)*100)"
   ]
  },
  {
   "cell_type": "markdown",
   "metadata": {
    "_cell_guid": "30545ac7-18f2-4a1a-940d-89456156a789",
    "_uuid": "571b18ee-3c04-47a9-a683-e4a920909dce"
   },
   "source": [
    "3 Classification algorithms used with their respective accuracy :\n",
    "\n",
    "1. Logistic Regression (binominal)      : 85.2066715010878 %\n",
    "2.   Logistic Regression (multinominal) : 85.2284263959391 %\n",
    "3. Naive Bayes                           : 84.2989949384345 %\n",
    "4. Support Vector Machine (SVM)          : 73.4690111758227%"
   ]
  },
  {
   "cell_type": "markdown",
   "metadata": {
    "_cell_guid": "24e4313b-cdb6-4639-b08c-773eb990ab27",
    "_uuid": "9f24b94b-b69a-4932-a3c7-61fe8840c962"
   },
   "source": [
    "Conclusions for the research questions :\n",
    "\n",
    "1. How do various strategies undertaken by various countries contribute to their respective winnings ?\n",
    "...India has put into motion a 14-sport olympic strategy. Following which the tokyo olympics was conducted. Although it is fairly early to determine the effect of this strategy, the results have indeed proven to have an positive impact. \n",
    "\n",
    "2. To what extent does the host country have an advantage in the medals won at the Olympics?\n",
    "\n",
    "3. How baised is the Olympics? Is there a significant difference in the sex ratio of participants and winners and How has it changed over the years?\n",
    "...The sex ratio is very biased towards the male population. Although in the recent years the number of women participating has taken an upward toll, yet no match to the number of male participants. But it is to be noted that the participation to the participants ratio is higher in the case of females indicating that although there are less number of woman participating, each woman on an average is participating/winning in more events as compared to men in olympics.\n",
    "\n",
    "4. Is there an age group for winning the Olympics, or not? Or has it changed over the years?\n",
    "...Although there are significant outliers, majority of the winners and participants belong to the age group of 23 to 37. And this has been consistent throughout. \n",
    "\n",
    "5. Is there a consistency in events/ countries won?\n",
    "...Over the years, United states successfully clutched on to the position of the country with the highest number of Gold medals for decades.Although, Soviet Union provided a tough competition. Lately, we see the emergence of Canada securing the highest number of Medals in Winter Olympics.\n",
    "\n",
    "6. Is any country dominating the Olympics?\n",
    "...Yes, United States has been ruling over the olympics for decades now. Although in recent years we see the emergence of new courtries in the top radar.\n",
    "\n",
    "7. Is there a pattern or a certain set of characteristics that might be help cluster the participants in the olympcis?\n",
    "...yes, the promising set of attributes that have been able to cluster the participants into clusters are sex, BMI and miscellanous exceptions.\n",
    "(obtained used various clustering algorithms including K-Means, Hierarchical Based, DBScan and methods like Silhouette method to find the optimal number of clusters)\n",
    "\n",
    "8. How did COVID affect the summer Olympics held in 2021?\n",
    "...The amount of precausions taken before the commencement of Olympics encouraged participants from all over the globe to participate. Although the numbers seen aren't significant enough.\n",
    "\n",
    "9. How has the Olympics changed (growth) over the years?\n",
    "... Yes, the olympics has definitely improved over the years. The number of sports, events, and participants has been constantly increasing ever since the inception of the Olympics Games.\n",
    "\n",
    "\n",
    "10. Has India’s participation and performance in the Olympics over the years improved?\n",
    "...Although India set some exceptionally high benchmarks a few certain years, over the few years the performance of the country has been on the down low. Nevertheless, India showed promising results in the Tokyo Olympics."
   ]
  },
  {
   "cell_type": "code",
   "execution_count": null,
   "metadata": {
    "_cell_guid": "4db97c08-a0b5-475a-bd39-0e3770b4184b",
    "_uuid": "771ab0cf-9919-441b-8a57-fcfe30cc7b78",
    "jupyter": {
     "outputs_hidden": false
    }
   },
   "outputs": [],
   "source": []
  }
 ],
 "metadata": {
  "kernelspec": {
   "display_name": "R",
   "language": "R",
   "name": "ir"
  },
  "language_info": {
   "codemirror_mode": "r",
   "file_extension": ".r",
   "mimetype": "text/x-r-source",
   "name": "R",
   "pygments_lexer": "r",
   "version": "3.6.1"
  }
 },
 "nbformat": 4,
 "nbformat_minor": 4
}
